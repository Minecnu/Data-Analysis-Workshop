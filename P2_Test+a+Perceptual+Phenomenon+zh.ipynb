{
 "cells": [
  {
   "cell_type": "markdown",
   "metadata": {},
   "source": [
    "### 统计学：检验心理学现象\n",
    "\n",
    "在下方单元格中回答问题并执行相关代码，你可以 [参考项目指导](https://github.com/udacity/new-dand-advanced-china/blob/master/%E6%A3%80%E9%AA%8C%E5%BF%83%E7%90%86%E5%AD%A6%E7%8E%B0%E8%B1%A1/%E7%BB%9F%E8%AE%A1%E5%AD%A6%EF%BC%9A%E6%A3%80%E9%AA%8C%E5%BF%83%E7%90%86%E5%AD%A6%E7%8E%B0%E8%B1%A1.md) 并在正式提交前查看 [项目要求](https://review.udacity.com/#!/rubrics/305/view)。提交时请将 Jupyter notebook 导出成 HTML 或者 PDF 进行提交（File -> Download As）。\n",
    "\n",
    "背景信息\n",
    "\n",
    "在一个Stroop （斯特鲁普）任务中，参与者得到了一列文字，每个文字都用一种油墨颜色展示。参与者的任务是将文字的打印颜色大声说出来。这项任务有两个条件：一致文字条件，和不一致文字条件。在一致文字条件中，显示的文字是与它们的打印颜色匹配的颜色词，如“红色”、“蓝色”。在不一致文字条件中，显示的文字是与它们的打印颜色不匹配的颜色词，如“紫色”、“橙色”。在每个情况中，我们将计量说出同等大小的列表中的墨色名称的时间。每位参与者必须全部完成并记录每种条件下使用的时间。\n",
    "\n",
    "调查问题\n",
    "\n",
    "作为一般说明，请确保记录你在创建项目时使用或参考的任何资源。作为项目提交的一部分，你将需要报告信息来源。\n",
    "\n",
    "(1) 我们的自变量是什么？因变量是什么？"
   ]
  },
  {
   "cell_type": "markdown",
   "metadata": {},
   "source": [
    "自变量是字色是否一致；因变量是说出颜色的反应时间"
   ]
  },
  {
   "cell_type": "markdown",
   "metadata": {},
   "source": [
    "(2) 此任务的适当假设集是什么？你需要以文字和数学符号方式对假设集中的零假设和对立假设加以说明，并对数学符号进行定义。你想执行什么类型的统计检验？为你的选择提供正当理由（比如，为何该实验满足你所选统计检验的前置条件）。"
   ]
  },
  {
   "cell_type": "markdown",
   "metadata": {},
   "source": [
    "* 由于测试数据为同一测试者接受两种不同的条件，所以选择配对样本T检验进行检验  \n",
    "\n",
    "* H0:字色是否一致对颜色的反应时间没有影响，即两者的总体均值无差异，μ1-μ2=0，μ1为字色一致时是总体反应时间均值；μ2为字色不一致时总体反应时间均值\n",
    "* H1:字色是否一致对颜色的反应时间有影响，即两者的总体均值有差异，μ1-μ2不等于0\n"
   ]
  },
  {
   "cell_type": "markdown",
   "metadata": {},
   "source": [
    "现在轮到你自行尝试 Stroop 任务了。前往此链接，其中包含一个基于 Java 的小程序，专门用于执行 Stroop 任务。记录你收到的任务时间（你无需将时间提交到网站）。现在下载此数据集，其中包含一些任务参与者的结果。数据集的每行包含一名参与者的表现，第一个数字代表他们的一致任务结果，第二个数字代表不一致任务结果。\n",
    "\n",
    "(3) 报告关于此数据集的一些描述性统计。包含至少一个集中趋势测量和至少一个变异测量。"
   ]
  },
  {
   "cell_type": "code",
   "execution_count": 2,
   "metadata": {},
   "outputs": [],
   "source": [
    "# 在这里执行你的分析\n",
    "import numpy as np \n",
    "import pandas as pd\n",
    "import matplotlib.pyplot as plt\n",
    "plt.style.use('fivethirtyeight')\n",
    "import seaborn as sns\n",
    "import warnings\n",
    "warnings.filterwarnings('ignore')\n",
    "%matplotlib inline"
   ]
  },
  {
   "cell_type": "markdown",
   "metadata": {},
   "source": [
    "### 3.1导入数据集"
   ]
  },
  {
   "cell_type": "code",
   "execution_count": 3,
   "metadata": {},
   "outputs": [
    {
     "data": {
      "text/html": [
       "<div>\n",
       "<style scoped>\n",
       "    .dataframe tbody tr th:only-of-type {\n",
       "        vertical-align: middle;\n",
       "    }\n",
       "\n",
       "    .dataframe tbody tr th {\n",
       "        vertical-align: top;\n",
       "    }\n",
       "\n",
       "    .dataframe thead th {\n",
       "        text-align: right;\n",
       "    }\n",
       "</style>\n",
       "<table border=\"1\" class=\"dataframe\">\n",
       "  <thead>\n",
       "    <tr style=\"text-align: right;\">\n",
       "      <th></th>\n",
       "      <th>Congruent</th>\n",
       "      <th>Incongruent</th>\n",
       "    </tr>\n",
       "  </thead>\n",
       "  <tbody>\n",
       "    <tr>\n",
       "      <th>0</th>\n",
       "      <td>12.079</td>\n",
       "      <td>19.278</td>\n",
       "    </tr>\n",
       "    <tr>\n",
       "      <th>1</th>\n",
       "      <td>16.791</td>\n",
       "      <td>18.741</td>\n",
       "    </tr>\n",
       "    <tr>\n",
       "      <th>2</th>\n",
       "      <td>9.564</td>\n",
       "      <td>21.214</td>\n",
       "    </tr>\n",
       "    <tr>\n",
       "      <th>3</th>\n",
       "      <td>8.630</td>\n",
       "      <td>15.687</td>\n",
       "    </tr>\n",
       "    <tr>\n",
       "      <th>4</th>\n",
       "      <td>14.669</td>\n",
       "      <td>22.803</td>\n",
       "    </tr>\n",
       "  </tbody>\n",
       "</table>\n",
       "</div>"
      ],
      "text/plain": [
       "   Congruent  Incongruent\n",
       "0     12.079       19.278\n",
       "1     16.791       18.741\n",
       "2      9.564       21.214\n",
       "3      8.630       15.687\n",
       "4     14.669       22.803"
      ]
     },
     "execution_count": 3,
     "metadata": {},
     "output_type": "execute_result"
    }
   ],
   "source": [
    "Stroopdata = pd.read_csv(\"data/stroopdata.csv\")\n",
    "Stroopdata.head(5)"
   ]
  },
  {
   "cell_type": "markdown",
   "metadata": {},
   "source": [
    "### 3.2 清理数据"
   ]
  },
  {
   "cell_type": "code",
   "execution_count": 3,
   "metadata": {},
   "outputs": [
    {
     "data": {
      "text/plain": [
       "Congruent      0\n",
       "Incongruent    0\n",
       "dtype: int64"
      ]
     },
     "execution_count": 3,
     "metadata": {},
     "output_type": "execute_result"
    }
   ],
   "source": [
    "Stroopdata.isnull().sum()"
   ]
  },
  {
   "cell_type": "markdown",
   "metadata": {},
   "source": [
    "* 无缺失值"
   ]
  },
  {
   "cell_type": "code",
   "execution_count": 4,
   "metadata": {},
   "outputs": [
    {
     "name": "stdout",
     "output_type": "stream",
     "text": [
      "<class 'pandas.core.frame.DataFrame'>\n",
      "RangeIndex: 24 entries, 0 to 23\n",
      "Data columns (total 2 columns):\n",
      "Congruent      24 non-null float64\n",
      "Incongruent    24 non-null float64\n",
      "dtypes: float64(2)\n",
      "memory usage: 464.0 bytes\n"
     ]
    }
   ],
   "source": [
    "Stroopdata.info()"
   ]
  },
  {
   "cell_type": "markdown",
   "metadata": {},
   "source": [
    "* 均为浮点型，作为时长的数据格式，无需修改"
   ]
  },
  {
   "cell_type": "markdown",
   "metadata": {},
   "source": [
    "### 4. 描述性统计—中心性测量与变异性测量"
   ]
  },
  {
   "cell_type": "markdown",
   "metadata": {},
   "source": [
    "### 4.1 中心性测量"
   ]
  },
  {
   "cell_type": "code",
   "execution_count": 5,
   "metadata": {},
   "outputs": [
    {
     "name": "stdout",
     "output_type": "stream",
     "text": [
      "Congruent的均值= 14.051125000000004\n",
      "Incongruent的均值= 22.01591666666667\n"
     ]
    }
   ],
   "source": [
    "# 均值\n",
    "print(\"Congruent的均值=\" , np.mean(Stroopdata['Congruent']))\n",
    "print(\"Incongruent的均值=\" , np.mean(Stroopdata['Incongruent']))"
   ]
  },
  {
   "cell_type": "code",
   "execution_count": 6,
   "metadata": {},
   "outputs": [
    {
     "name": "stdout",
     "output_type": "stream",
     "text": [
      "Congruent的中位数= 14.3565\n",
      "Incongruent的中位数= 21.0175\n"
     ]
    }
   ],
   "source": [
    "#中位数\n",
    "print(\"Congruent的中位数=\" , np.median(Stroopdata['Congruent']))\n",
    "print(\"Incongruent的中位数=\" , np.median(Stroopdata['Incongruent']))"
   ]
  },
  {
   "cell_type": "code",
   "execution_count": 7,
   "metadata": {},
   "outputs": [
    {
     "name": "stdout",
     "output_type": "stream",
     "text": [
      "Congruent的众数= ModeResult(mode=array([8.63]), count=array([1]))\n",
      "Incongruent的众数= ModeResult(mode=array([15.687]), count=array([1]))\n"
     ]
    }
   ],
   "source": [
    "#众数\n",
    "from scipy.stats import mode\n",
    "print(\"Congruent的众数=\" , mode(Stroopdata['Congruent']))\n",
    "print(\"Incongruent的众数=\" , mode(Stroopdata['Incongruent']))"
   ]
  },
  {
   "cell_type": "markdown",
   "metadata": {},
   "source": [
    "Congruent(字色一致)耗时的均值，中位数，众数均比Incongruent(字色不一致)耗时的均值，中位数，众数都小，说明字色一致的反应时间更短一些"
   ]
  },
  {
   "cell_type": "markdown",
   "metadata": {},
   "source": [
    "### 4.2变异性测量"
   ]
  },
  {
   "cell_type": "code",
   "execution_count": 8,
   "metadata": {},
   "outputs": [
    {
     "data": {
      "text/plain": [
       "Congruent      3.559358\n",
       "Incongruent    4.797057\n",
       "dtype: float64"
      ]
     },
     "execution_count": 8,
     "metadata": {},
     "output_type": "execute_result"
    }
   ],
   "source": [
    "## 标准差\n",
    "Stroopdata.std()"
   ]
  },
  {
   "cell_type": "markdown",
   "metadata": {},
   "source": [
    "Incongruent（字色不一致）的离散程度要高于Congruent(字色一致)"
   ]
  },
  {
   "cell_type": "code",
   "execution_count": 9,
   "metadata": {},
   "outputs": [
    {
     "data": {
      "text/plain": [
       "<matplotlib.axes._subplots.AxesSubplot at 0x1e4443c63c8>"
      ]
     },
     "execution_count": 9,
     "metadata": {},
     "output_type": "execute_result"
    },
    {
     "data": {
      "image/png": "[encoded data removed]",
      "text/plain": [
       "<matplotlib.figure.Figure at 0x1e4442c1fd0>"
      ]
     },
     "metadata": {},
     "output_type": "display_data"
    }
   ],
   "source": [
    "## 箱形图分析\n",
    "f,ax=plt.subplots(1,2,figsize=(15,4))\n",
    "sns.set(style=\"whitegrid\")\n",
    "sns.boxplot(x=Stroopdata[\"Congruent\"],ax=ax[0])\n",
    "sns.swarmplot(x=Stroopdata[\"Congruent\"], color=\"red\",ax=ax[0])\n",
    "sns.boxplot(x=Stroopdata[\"Incongruent\"],ax=ax[1])\n",
    "sns.swarmplot(x=Stroopdata[\"Incongruent\"], color=\"red\",ax=ax[1])"
   ]
  },
  {
   "cell_type": "markdown",
   "metadata": {},
   "source": [
    "* Incongruent(字色不一致)的反应时间存在两个离群点\n",
    "* 从箱形图中观察看出，Incongruent去除两个离群点后反应时间较为集中，Congruent的反应时间比Incongruent反应时间要更加离散"
   ]
  },
  {
   "cell_type": "code",
   "execution_count": 10,
   "metadata": {},
   "outputs": [
    {
     "data": {
      "text/plain": [
       "<matplotlib.axes._subplots.AxesSubplot at 0x1e444720160>"
      ]
     },
     "execution_count": 10,
     "metadata": {},
     "output_type": "execute_result"
    },
    {
     "data": {
      "image/png": "[encoded data removed]",
      "text/plain": [
       "<matplotlib.figure.Figure at 0x1e4442c1358>"
      ]
     },
     "metadata": {},
     "output_type": "display_data"
    }
   ],
   "source": [
    "## 直方图分析\n",
    "f, axes = plt.subplots(1, 2, figsize=(15, 6), sharex=True)\n",
    "sns.despine(left=True)\n",
    "sns.distplot(Stroopdata.Congruent,  color=\"b\",ax=axes[0])\n",
    "sns.distplot(Stroopdata.Incongruent, color=\"r\", ax=axes[1])"
   ]
  },
  {
   "cell_type": "markdown",
   "metadata": {},
   "source": [
    "* Congruent字色一致符合（左偏）正态分布（数据量较少，效果不明显）\n",
    "* Incongruent字色不一致双峰分布，有异常点\n",
    "* 疑问：类似于这种异常点需要去除吗？独立样本t检验并未要求样本符合正态分布"
   ]
  },
  {
   "cell_type": "markdown",
   "metadata": {},
   "source": [
    "### 5.假设检验"
   ]
  },
  {
   "cell_type": "markdown",
   "metadata": {},
   "source": [
    "(5) 现在，执行统计测试并报告你的结果。你的置信水平和关键统计值是多少？你是否成功拒绝零假设？对试验任务得出一个结论。结果是否与你的期望一致？"
   ]
  },
  {
   "cell_type": "code",
   "execution_count": 7,
   "metadata": {
    "scrolled": false
   },
   "outputs": [
    {
     "name": "stdout",
     "output_type": "stream",
     "text": [
      "置信水平： 0.95 显著性水平α: 0.050000000000000044 自由度： Congruent      23\n",
      "Incongruent    23\n",
      "dtype: int64\n"
     ]
    }
   ],
   "source": [
    "## 置性水平\n",
    "β=0.95\n",
    "##显著性水平\n",
    "α=1-β\n",
    "##自由度\n",
    "df = Stroopdata.count(0)-1\n",
    "print(\"置信水平：\",β,\"显著性水平α:\",α,\"自由度：\",df)"
   ]
  },
  {
   "cell_type": "markdown",
   "metadata": {},
   "source": [
    "#### 计算t临界值\n",
    "##### 第一种方法—直接计算t临界值"
   ]
  },
  {
   "cell_type": "code",
   "execution_count": 9,
   "metadata": {},
   "outputs": [
    {
     "data": {
      "text/plain": [
       "-8.020706944109957"
      ]
     },
     "execution_count": 9,
     "metadata": {},
     "output_type": "execute_result"
    }
   ],
   "source": [
    "##计算t临界值\n",
    "Stroopdata['D']=Stroopdata['Congruent']-Stroopdata['Incongruent']\n",
    "import math\n",
    "Dx = np.mean(Stroopdata['D'])#差异平均值\n",
    "Ds = Stroopdata['D'].std()#差异标准差\n",
    "t = Dx/(Ds/math.sqrt(24))\n",
    "t"
   ]
  },
  {
   "cell_type": "code",
   "execution_count": 8,
   "metadata": {},
   "outputs": [
    {
     "data": {
      "text/plain": [
       "4.864826910359056"
      ]
     },
     "execution_count": 8,
     "metadata": {},
     "output_type": "execute_result"
    }
   ],
   "source": [
    "Ds"
   ]
  },
  {
   "cell_type": "markdown",
   "metadata": {},
   "source": [
    "##### 第二种方法—使用scipy函数"
   ]
  },
  {
   "cell_type": "code",
   "execution_count": 35,
   "metadata": {},
   "outputs": [
    {
     "data": {
      "text/plain": [
       "Ttest_relResult(statistic=-8.020706944109957, pvalue=4.103000585711178e-08)"
      ]
     },
     "execution_count": 35,
     "metadata": {},
     "output_type": "execute_result"
    }
   ],
   "source": [
    "from scipy import stats\n",
    "stats.ttest_rel(Stroopdata.Congruent,Stroopdata.Incongruent)"
   ]
  },
  {
   "cell_type": "markdown",
   "metadata": {},
   "source": [
    "采用双尾检测，根据α=0.05，df=23,查表得t值范围为±2.069  \n",
    "计算出得t临界值为-0.802,不在t值范围内，所以拒绝原假设，说明字色是否一致对反应时间有影响"
   ]
  },
  {
   "cell_type": "code",
   "execution_count": null,
   "metadata": {},
   "outputs": [],
   "source": []
  }
 ],
 "metadata": {
  "anaconda-cloud": {},
  "kernelspec": {
   "display_name": "Python 3",
   "language": "python",
   "name": "python3"
  },
  "language_info": {
   "codemirror_mode": {
    "name": "ipython",
    "version": 3
   },
   "file_extension": ".py",
   "mimetype": "text/x-python",
   "name": "python",
   "nbconvert_exporter": "python",
   "pygments_lexer": "ipython3",
   "version": "3.6.4"
  }
 },
 "nbformat": 4,
 "nbformat_minor": 2
}
