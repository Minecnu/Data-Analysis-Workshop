{
 "cells": [
  {
   "cell_type": "markdown",
   "metadata": {
    "collapsed": true
   },
   "source": [
    "## 数据收集"
   ]
  },
  {
   "cell_type": "markdown",
   "metadata": {},
   "source": [
    "### 推特图像预测数据"
   ]
  },
  {
   "cell_type": "code",
   "execution_count": 1,
   "metadata": {},
   "outputs": [],
   "source": [
    "import requests\n",
    "import os\n",
    "import pandas as pd\n",
    "import numpy as np"
   ]
  },
  {
   "cell_type": "code",
   "execution_count": 2,
   "metadata": {},
   "outputs": [],
   "source": [
    "#该代码只允许一次\n",
    "folder_name = 'wrangle_act' #在本地已建好文件夹\n",
    "url = 'https://raw.githubusercontent.com/udacity/new-dand-advanced-china/master/%E6%95%B0%E6%8D%AE%E6%B8%85%E6%B4%97/WeRateDogs%E9%A1%B9%E7%9B%AE/image-predictions.tsv'\n",
    "response = requests.get(url)\n",
    "\n",
    "with open(os.path.join(folder_name,\n",
    "                      url.split('/')[-1]),mode='wb') as file:\n",
    "    file.write(response.content)"
   ]
  },
  {
   "cell_type": "markdown",
   "metadata": {},
   "source": [
    "### 导入数据\n",
    "1. WeRateDogs的推特数据"
   ]
  },
  {
   "cell_type": "code",
   "execution_count": 2,
   "metadata": {},
   "outputs": [],
   "source": [
    "twitter_archive_enhanced = pd.read_csv(\"wrangle_act/twitter-archive-enhanced.csv\")"
   ]
  },
  {
   "cell_type": "code",
   "execution_count": 13,
   "metadata": {},
   "outputs": [
    {
     "data": {
      "text/plain": [
       "310     RT @dog_rates: So this just changed my life. 1...\n",
       "843     His name is Charley and he already has a new s...\n",
       "1688    This is Carly. She's actually 2 dogs fused tog...\n",
       "2288    These are strange dogs. All have toupees. Long...\n",
       "1966    IT'S SO SMALL ERMERGERF 11/10 https://t.co/dNU...\n",
       "Name: text, dtype: object"
      ]
     },
     "execution_count": 13,
     "metadata": {},
     "output_type": "execute_result"
    }
   ],
   "source": [
    "twitter_archive_enhanced.text.sample(5)"
   ]
  },
  {
   "cell_type": "markdown",
   "metadata": {},
   "source": [
    "2. 导入推特图像的预测数据"
   ]
  },
  {
   "cell_type": "code",
   "execution_count": 3,
   "metadata": {},
   "outputs": [],
   "source": [
    "image_predictions = pd.read_csv('wrangle_act/image-predictions.tsv',sep='\\t')"
   ]
  },
  {
   "cell_type": "markdown",
   "metadata": {},
   "source": [
    "3. 每条推特的额外附加数据_收集tweet ID,retweet_count 和favorite_count"
   ]
  },
  {
   "cell_type": "code",
   "execution_count": 4,
   "metadata": {},
   "outputs": [],
   "source": [
    "import json"
   ]
  },
  {
   "cell_type": "code",
   "execution_count": 5,
   "metadata": {
    "scrolled": false
   },
   "outputs": [],
   "source": [
    "with open('wrangle_act/tweet_json.txt','r') as json_file:\n",
    "    tweet_json = json_file.readlines()"
   ]
  },
  {
   "cell_type": "code",
   "execution_count": 6,
   "metadata": {},
   "outputs": [],
   "source": [
    "tweet_extra={'tweet_ID':[],'retweet_count':[],'favorite_count':[]}\n",
    "for tj in tweet_json:\n",
    "    tjj = json.loads(tj)\n",
    "    tweet_extra['tweet_ID'].append(tjj['id_str'])\n",
    "    tweet_extra['retweet_count'].append(tjj['retweet_count'])\n",
    "    tweet_extra['favorite_count'].append(tjj['favorite_count'])\n",
    "    \n",
    "tweet_extra=pd.DataFrame(tweet_extra)"
   ]
  },
  {
   "cell_type": "markdown",
   "metadata": {},
   "source": [
    "## 数据评估"
   ]
  },
  {
   "cell_type": "code",
   "execution_count": 7,
   "metadata": {},
   "outputs": [
    {
     "data": {
      "text/html": [
       "<div>\n",
       "<style scoped>\n",
       "    .dataframe tbody tr th:only-of-type {\n",
       "        vertical-align: middle;\n",
       "    }\n",
       "\n",
       "    .dataframe tbody tr th {\n",
       "        vertical-align: top;\n",
       "    }\n",
       "\n",
       "    .dataframe thead th {\n",
       "        text-align: right;\n",
       "    }\n",
       "</style>\n",
       "<table border=\"1\" class=\"dataframe\">\n",
       "  <thead>\n",
       "    <tr style=\"text-align: right;\">\n",
       "      <th></th>\n",
       "      <th>tweet_id</th>\n",
       "      <th>in_reply_to_status_id</th>\n",
       "      <th>in_reply_to_user_id</th>\n",
       "      <th>timestamp</th>\n",
       "      <th>source</th>\n",
       "      <th>text</th>\n",
       "      <th>retweeted_status_id</th>\n",
       "      <th>retweeted_status_user_id</th>\n",
       "      <th>retweeted_status_timestamp</th>\n",
       "      <th>expanded_urls</th>\n",
       "      <th>rating_numerator</th>\n",
       "      <th>rating_denominator</th>\n",
       "      <th>name</th>\n",
       "      <th>doggo</th>\n",
       "      <th>floofer</th>\n",
       "      <th>pupper</th>\n",
       "      <th>puppo</th>\n",
       "    </tr>\n",
       "  </thead>\n",
       "  <tbody>\n",
       "    <tr>\n",
       "      <th>1806</th>\n",
       "      <td>676936541936185344</td>\n",
       "      <td>NaN</td>\n",
       "      <td>NaN</td>\n",
       "      <td>2015-12-16 01:27:03 +0000</td>\n",
       "      <td>&lt;a href=\"http://twitter.com/download/iphone\" r...</td>\n",
       "      <td>Here we see a rare pouched pupper. Ample stora...</td>\n",
       "      <td>NaN</td>\n",
       "      <td>NaN</td>\n",
       "      <td>NaN</td>\n",
       "      <td>https://twitter.com/dog_rates/status/676936541...</td>\n",
       "      <td>8</td>\n",
       "      <td>10</td>\n",
       "      <td>None</td>\n",
       "      <td>None</td>\n",
       "      <td>None</td>\n",
       "      <td>pupper</td>\n",
       "      <td>None</td>\n",
       "    </tr>\n",
       "    <tr>\n",
       "      <th>575</th>\n",
       "      <td>801115127852503040</td>\n",
       "      <td>NaN</td>\n",
       "      <td>NaN</td>\n",
       "      <td>2016-11-22 17:28:25 +0000</td>\n",
       "      <td>&lt;a href=\"http://twitter.com/download/iphone\" r...</td>\n",
       "      <td>This is Bones. He's being haunted by another d...</td>\n",
       "      <td>NaN</td>\n",
       "      <td>NaN</td>\n",
       "      <td>NaN</td>\n",
       "      <td>https://twitter.com/dog_rates/status/801115127...</td>\n",
       "      <td>12</td>\n",
       "      <td>10</td>\n",
       "      <td>Bones</td>\n",
       "      <td>doggo</td>\n",
       "      <td>None</td>\n",
       "      <td>pupper</td>\n",
       "      <td>None</td>\n",
       "    </tr>\n",
       "    <tr>\n",
       "      <th>1170</th>\n",
       "      <td>720775346191278080</td>\n",
       "      <td>NaN</td>\n",
       "      <td>NaN</td>\n",
       "      <td>2016-04-15 00:46:48 +0000</td>\n",
       "      <td>&lt;a href=\"http://twitter.com/download/iphone\" r...</td>\n",
       "      <td>This is Berkeley. He's in a predicament. 10/10...</td>\n",
       "      <td>NaN</td>\n",
       "      <td>NaN</td>\n",
       "      <td>NaN</td>\n",
       "      <td>https://twitter.com/dog_rates/status/720775346...</td>\n",
       "      <td>10</td>\n",
       "      <td>10</td>\n",
       "      <td>Berkeley</td>\n",
       "      <td>None</td>\n",
       "      <td>None</td>\n",
       "      <td>None</td>\n",
       "      <td>None</td>\n",
       "    </tr>\n",
       "    <tr>\n",
       "      <th>735</th>\n",
       "      <td>781163403222056960</td>\n",
       "      <td>NaN</td>\n",
       "      <td>NaN</td>\n",
       "      <td>2016-09-28 16:07:23 +0000</td>\n",
       "      <td>&lt;a href=\"http://twitter.com/download/iphone\" r...</td>\n",
       "      <td>We normally don't rate lobsters, but this one ...</td>\n",
       "      <td>NaN</td>\n",
       "      <td>NaN</td>\n",
       "      <td>NaN</td>\n",
       "      <td>https://twitter.com/dog_rates/status/781163403...</td>\n",
       "      <td>10</td>\n",
       "      <td>10</td>\n",
       "      <td>None</td>\n",
       "      <td>None</td>\n",
       "      <td>None</td>\n",
       "      <td>None</td>\n",
       "      <td>None</td>\n",
       "    </tr>\n",
       "    <tr>\n",
       "      <th>2189</th>\n",
       "      <td>668967877119254528</td>\n",
       "      <td>6.689207e+17</td>\n",
       "      <td>21435658.0</td>\n",
       "      <td>2015-11-24 01:42:25 +0000</td>\n",
       "      <td>&lt;a href=\"http://twitter.com/download/iphone\" r...</td>\n",
       "      <td>12/10 good shit Bubka\\n@wane15</td>\n",
       "      <td>NaN</td>\n",
       "      <td>NaN</td>\n",
       "      <td>NaN</td>\n",
       "      <td>NaN</td>\n",
       "      <td>12</td>\n",
       "      <td>10</td>\n",
       "      <td>None</td>\n",
       "      <td>None</td>\n",
       "      <td>None</td>\n",
       "      <td>None</td>\n",
       "      <td>None</td>\n",
       "    </tr>\n",
       "  </tbody>\n",
       "</table>\n",
       "</div>"
      ],
      "text/plain": [
       "                tweet_id  in_reply_to_status_id  in_reply_to_user_id  \\\n",
       "1806  676936541936185344                    NaN                  NaN   \n",
       "575   801115127852503040                    NaN                  NaN   \n",
       "1170  720775346191278080                    NaN                  NaN   \n",
       "735   781163403222056960                    NaN                  NaN   \n",
       "2189  668967877119254528           6.689207e+17           21435658.0   \n",
       "\n",
       "                      timestamp  \\\n",
       "1806  2015-12-16 01:27:03 +0000   \n",
       "575   2016-11-22 17:28:25 +0000   \n",
       "1170  2016-04-15 00:46:48 +0000   \n",
       "735   2016-09-28 16:07:23 +0000   \n",
       "2189  2015-11-24 01:42:25 +0000   \n",
       "\n",
       "                                                 source  \\\n",
       "1806  <a href=\"http://twitter.com/download/iphone\" r...   \n",
       "575   <a href=\"http://twitter.com/download/iphone\" r...   \n",
       "1170  <a href=\"http://twitter.com/download/iphone\" r...   \n",
       "735   <a href=\"http://twitter.com/download/iphone\" r...   \n",
       "2189  <a href=\"http://twitter.com/download/iphone\" r...   \n",
       "\n",
       "                                                   text  retweeted_status_id  \\\n",
       "1806  Here we see a rare pouched pupper. Ample stora...                  NaN   \n",
       "575   This is Bones. He's being haunted by another d...                  NaN   \n",
       "1170  This is Berkeley. He's in a predicament. 10/10...                  NaN   \n",
       "735   We normally don't rate lobsters, but this one ...                  NaN   \n",
       "2189                     12/10 good shit Bubka\\n@wane15                  NaN   \n",
       "\n",
       "      retweeted_status_user_id retweeted_status_timestamp  \\\n",
       "1806                       NaN                        NaN   \n",
       "575                        NaN                        NaN   \n",
       "1170                       NaN                        NaN   \n",
       "735                        NaN                        NaN   \n",
       "2189                       NaN                        NaN   \n",
       "\n",
       "                                          expanded_urls  rating_numerator  \\\n",
       "1806  https://twitter.com/dog_rates/status/676936541...                 8   \n",
       "575   https://twitter.com/dog_rates/status/801115127...                12   \n",
       "1170  https://twitter.com/dog_rates/status/720775346...                10   \n",
       "735   https://twitter.com/dog_rates/status/781163403...                10   \n",
       "2189                                                NaN                12   \n",
       "\n",
       "      rating_denominator      name  doggo floofer  pupper puppo  \n",
       "1806                  10      None   None    None  pupper  None  \n",
       "575                   10     Bones  doggo    None  pupper  None  \n",
       "1170                  10  Berkeley   None    None    None  None  \n",
       "735                   10      None   None    None    None  None  \n",
       "2189                  10      None   None    None    None  None  "
      ]
     },
     "execution_count": 7,
     "metadata": {},
     "output_type": "execute_result"
    }
   ],
   "source": [
    "twitter_archive_enhanced.sample(5)"
   ]
  },
  {
   "cell_type": "code",
   "execution_count": 8,
   "metadata": {},
   "outputs": [
    {
     "name": "stdout",
     "output_type": "stream",
     "text": [
      "<class 'pandas.core.frame.DataFrame'>\n",
      "RangeIndex: 2356 entries, 0 to 2355\n",
      "Data columns (total 17 columns):\n",
      "tweet_id                      2356 non-null int64\n",
      "in_reply_to_status_id         78 non-null float64\n",
      "in_reply_to_user_id           78 non-null float64\n",
      "timestamp                     2356 non-null object\n",
      "source                        2356 non-null object\n",
      "text                          2356 non-null object\n",
      "retweeted_status_id           181 non-null float64\n",
      "retweeted_status_user_id      181 non-null float64\n",
      "retweeted_status_timestamp    181 non-null object\n",
      "expanded_urls                 2297 non-null object\n",
      "rating_numerator              2356 non-null int64\n",
      "rating_denominator            2356 non-null int64\n",
      "name                          2356 non-null object\n",
      "doggo                         2356 non-null object\n",
      "floofer                       2356 non-null object\n",
      "pupper                        2356 non-null object\n",
      "puppo                         2356 non-null object\n",
      "dtypes: float64(4), int64(3), object(10)\n",
      "memory usage: 313.0+ KB\n"
     ]
    }
   ],
   "source": [
    "#查看数据基本信息\n",
    "twitter_archive_enhanced.info()"
   ]
  },
  {
   "cell_type": "code",
   "execution_count": 9,
   "metadata": {},
   "outputs": [
    {
     "data": {
      "text/html": [
       "<div>\n",
       "<style scoped>\n",
       "    .dataframe tbody tr th:only-of-type {\n",
       "        vertical-align: middle;\n",
       "    }\n",
       "\n",
       "    .dataframe tbody tr th {\n",
       "        vertical-align: top;\n",
       "    }\n",
       "\n",
       "    .dataframe thead th {\n",
       "        text-align: right;\n",
       "    }\n",
       "</style>\n",
       "<table border=\"1\" class=\"dataframe\">\n",
       "  <thead>\n",
       "    <tr style=\"text-align: right;\">\n",
       "      <th></th>\n",
       "      <th>doggo</th>\n",
       "      <th>floofer</th>\n",
       "      <th>pupper</th>\n",
       "      <th>puppo</th>\n",
       "    </tr>\n",
       "  </thead>\n",
       "  <tbody>\n",
       "    <tr>\n",
       "      <th>1211</th>\n",
       "      <td>None</td>\n",
       "      <td>None</td>\n",
       "      <td>None</td>\n",
       "      <td>None</td>\n",
       "    </tr>\n",
       "    <tr>\n",
       "      <th>1038</th>\n",
       "      <td>None</td>\n",
       "      <td>None</td>\n",
       "      <td>None</td>\n",
       "      <td>None</td>\n",
       "    </tr>\n",
       "    <tr>\n",
       "      <th>1861</th>\n",
       "      <td>None</td>\n",
       "      <td>None</td>\n",
       "      <td>None</td>\n",
       "      <td>None</td>\n",
       "    </tr>\n",
       "    <tr>\n",
       "      <th>2086</th>\n",
       "      <td>None</td>\n",
       "      <td>None</td>\n",
       "      <td>None</td>\n",
       "      <td>None</td>\n",
       "    </tr>\n",
       "    <tr>\n",
       "      <th>477</th>\n",
       "      <td>None</td>\n",
       "      <td>None</td>\n",
       "      <td>None</td>\n",
       "      <td>None</td>\n",
       "    </tr>\n",
       "  </tbody>\n",
       "</table>\n",
       "</div>"
      ],
      "text/plain": [
       "     doggo floofer pupper puppo\n",
       "1211  None    None   None  None\n",
       "1038  None    None   None  None\n",
       "1861  None    None   None  None\n",
       "2086  None    None   None  None\n",
       "477   None    None   None  None"
      ]
     },
     "execution_count": 9,
     "metadata": {},
     "output_type": "execute_result"
    }
   ],
   "source": [
    "twitter_archive_enhanced[['doggo','floofer','pupper','puppo']].sample(5)"
   ]
  },
  {
   "cell_type": "code",
   "execution_count": 10,
   "metadata": {},
   "outputs": [
    {
     "data": {
      "text/plain": [
       "12      558\n",
       "11      464\n",
       "10      461\n",
       "13      351\n",
       "9       158\n",
       "8       102\n",
       "7        55\n",
       "14       54\n",
       "5        37\n",
       "6        32\n",
       "3        19\n",
       "4        17\n",
       "1         9\n",
       "2         9\n",
       "420       2\n",
       "0         2\n",
       "15        2\n",
       "75        2\n",
       "80        1\n",
       "20        1\n",
       "24        1\n",
       "26        1\n",
       "44        1\n",
       "50        1\n",
       "60        1\n",
       "165       1\n",
       "84        1\n",
       "88        1\n",
       "144       1\n",
       "182       1\n",
       "143       1\n",
       "666       1\n",
       "960       1\n",
       "1776      1\n",
       "17        1\n",
       "27        1\n",
       "45        1\n",
       "99        1\n",
       "121       1\n",
       "204       1\n",
       "Name: rating_numerator, dtype: int64"
      ]
     },
     "execution_count": 10,
     "metadata": {},
     "output_type": "execute_result"
    }
   ],
   "source": [
    "#分数问题-分子与分母问题\n",
    "twitter_archive_enhanced['rating_numerator'].value_counts()"
   ]
  },
  {
   "cell_type": "markdown",
   "metadata": {},
   "source": [
    "比较异常的分子：1776"
   ]
  },
  {
   "cell_type": "code",
   "execution_count": 11,
   "metadata": {},
   "outputs": [
    {
     "data": {
      "text/plain": [
       "10     2333\n",
       "11        3\n",
       "50        3\n",
       "80        2\n",
       "20        2\n",
       "2         1\n",
       "16        1\n",
       "40        1\n",
       "70        1\n",
       "15        1\n",
       "90        1\n",
       "110       1\n",
       "120       1\n",
       "130       1\n",
       "150       1\n",
       "170       1\n",
       "7         1\n",
       "0         1\n",
       "Name: rating_denominator, dtype: int64"
      ]
     },
     "execution_count": 11,
     "metadata": {},
     "output_type": "execute_result"
    }
   ],
   "source": [
    "twitter_archive_enhanced['rating_denominator'].value_counts()"
   ]
  },
  {
   "cell_type": "markdown",
   "metadata": {},
   "source": [
    "比较异常的分母：2，16，15，7，0"
   ]
  },
  {
   "cell_type": "code",
   "execution_count": 12,
   "metadata": {},
   "outputs": [
    {
     "data": {
      "text/html": [
       "<div>\n",
       "<style scoped>\n",
       "    .dataframe tbody tr th:only-of-type {\n",
       "        vertical-align: middle;\n",
       "    }\n",
       "\n",
       "    .dataframe tbody tr th {\n",
       "        vertical-align: top;\n",
       "    }\n",
       "\n",
       "    .dataframe thead th {\n",
       "        text-align: right;\n",
       "    }\n",
       "</style>\n",
       "<table border=\"1\" class=\"dataframe\">\n",
       "  <thead>\n",
       "    <tr style=\"text-align: right;\">\n",
       "      <th></th>\n",
       "      <th>tweet_id</th>\n",
       "      <th>in_reply_to_status_id</th>\n",
       "      <th>in_reply_to_user_id</th>\n",
       "      <th>timestamp</th>\n",
       "      <th>source</th>\n",
       "      <th>text</th>\n",
       "      <th>retweeted_status_id</th>\n",
       "      <th>retweeted_status_user_id</th>\n",
       "      <th>retweeted_status_timestamp</th>\n",
       "      <th>expanded_urls</th>\n",
       "      <th>rating_numerator</th>\n",
       "      <th>rating_denominator</th>\n",
       "      <th>name</th>\n",
       "      <th>doggo</th>\n",
       "      <th>floofer</th>\n",
       "      <th>pupper</th>\n",
       "      <th>puppo</th>\n",
       "    </tr>\n",
       "  </thead>\n",
       "  <tbody>\n",
       "    <tr>\n",
       "      <th>313</th>\n",
       "      <td>835246439529840640</td>\n",
       "      <td>8.352460e+17</td>\n",
       "      <td>26259576.0</td>\n",
       "      <td>2017-02-24 21:54:03 +0000</td>\n",
       "      <td>&lt;a href=\"http://twitter.com/download/iphone\" r...</td>\n",
       "      <td>@jonnysun @Lin_Manuel ok jomny I know you're e...</td>\n",
       "      <td>NaN</td>\n",
       "      <td>NaN</td>\n",
       "      <td>NaN</td>\n",
       "      <td>NaN</td>\n",
       "      <td>960</td>\n",
       "      <td>0</td>\n",
       "      <td>None</td>\n",
       "      <td>None</td>\n",
       "      <td>None</td>\n",
       "      <td>None</td>\n",
       "      <td>None</td>\n",
       "    </tr>\n",
       "  </tbody>\n",
       "</table>\n",
       "</div>"
      ],
      "text/plain": [
       "               tweet_id  in_reply_to_status_id  in_reply_to_user_id  \\\n",
       "313  835246439529840640           8.352460e+17           26259576.0   \n",
       "\n",
       "                     timestamp  \\\n",
       "313  2017-02-24 21:54:03 +0000   \n",
       "\n",
       "                                                source  \\\n",
       "313  <a href=\"http://twitter.com/download/iphone\" r...   \n",
       "\n",
       "                                                  text  retweeted_status_id  \\\n",
       "313  @jonnysun @Lin_Manuel ok jomny I know you're e...                  NaN   \n",
       "\n",
       "     retweeted_status_user_id retweeted_status_timestamp expanded_urls  \\\n",
       "313                       NaN                        NaN           NaN   \n",
       "\n",
       "     rating_numerator  rating_denominator  name doggo floofer pupper puppo  \n",
       "313               960                   0  None  None    None   None  None  "
      ]
     },
     "execution_count": 12,
     "metadata": {},
     "output_type": "execute_result"
    }
   ],
   "source": [
    "#分子=1776时\n",
    "twitter_archive_enhanced[twitter_archive_enhanced.rating_numerator==960]"
   ]
  },
  {
   "cell_type": "code",
   "execution_count": 13,
   "metadata": {},
   "outputs": [
    {
     "data": {
      "text/plain": [
       "'https://twitter.com/dog_rates/status/749981277374128128/photo/1'"
      ]
     },
     "execution_count": 13,
     "metadata": {},
     "output_type": "execute_result"
    }
   ],
   "source": [
    "twitter_archive_enhanced.iloc[979][9]"
   ]
  },
  {
   "cell_type": "code",
   "execution_count": 14,
   "metadata": {},
   "outputs": [
    {
     "data": {
      "text/html": [
       "<div>\n",
       "<style scoped>\n",
       "    .dataframe tbody tr th:only-of-type {\n",
       "        vertical-align: middle;\n",
       "    }\n",
       "\n",
       "    .dataframe tbody tr th {\n",
       "        vertical-align: top;\n",
       "    }\n",
       "\n",
       "    .dataframe thead th {\n",
       "        text-align: right;\n",
       "    }\n",
       "</style>\n",
       "<table border=\"1\" class=\"dataframe\">\n",
       "  <thead>\n",
       "    <tr style=\"text-align: right;\">\n",
       "      <th></th>\n",
       "      <th>tweet_id</th>\n",
       "      <th>in_reply_to_status_id</th>\n",
       "      <th>in_reply_to_user_id</th>\n",
       "      <th>timestamp</th>\n",
       "      <th>source</th>\n",
       "      <th>text</th>\n",
       "      <th>retweeted_status_id</th>\n",
       "      <th>retweeted_status_user_id</th>\n",
       "      <th>retweeted_status_timestamp</th>\n",
       "      <th>expanded_urls</th>\n",
       "      <th>rating_numerator</th>\n",
       "      <th>rating_denominator</th>\n",
       "      <th>name</th>\n",
       "      <th>doggo</th>\n",
       "      <th>floofer</th>\n",
       "      <th>pupper</th>\n",
       "      <th>puppo</th>\n",
       "    </tr>\n",
       "  </thead>\n",
       "  <tbody>\n",
       "    <tr>\n",
       "      <th>2335</th>\n",
       "      <td>666287406224695296</td>\n",
       "      <td>NaN</td>\n",
       "      <td>NaN</td>\n",
       "      <td>2015-11-16 16:11:11 +0000</td>\n",
       "      <td>&lt;a href=\"http://twitter.com/download/iphone\" r...</td>\n",
       "      <td>This is an Albanian 3 1/2 legged  Episcopalian...</td>\n",
       "      <td>NaN</td>\n",
       "      <td>NaN</td>\n",
       "      <td>NaN</td>\n",
       "      <td>https://twitter.com/dog_rates/status/666287406...</td>\n",
       "      <td>1</td>\n",
       "      <td>2</td>\n",
       "      <td>an</td>\n",
       "      <td>None</td>\n",
       "      <td>None</td>\n",
       "      <td>None</td>\n",
       "      <td>None</td>\n",
       "    </tr>\n",
       "  </tbody>\n",
       "</table>\n",
       "</div>"
      ],
      "text/plain": [
       "                tweet_id  in_reply_to_status_id  in_reply_to_user_id  \\\n",
       "2335  666287406224695296                    NaN                  NaN   \n",
       "\n",
       "                      timestamp  \\\n",
       "2335  2015-11-16 16:11:11 +0000   \n",
       "\n",
       "                                                 source  \\\n",
       "2335  <a href=\"http://twitter.com/download/iphone\" r...   \n",
       "\n",
       "                                                   text  retweeted_status_id  \\\n",
       "2335  This is an Albanian 3 1/2 legged  Episcopalian...                  NaN   \n",
       "\n",
       "      retweeted_status_user_id retweeted_status_timestamp  \\\n",
       "2335                       NaN                        NaN   \n",
       "\n",
       "                                          expanded_urls  rating_numerator  \\\n",
       "2335  https://twitter.com/dog_rates/status/666287406...                 1   \n",
       "\n",
       "      rating_denominator name doggo floofer pupper puppo  \n",
       "2335                   2   an  None    None   None  None  "
      ]
     },
     "execution_count": 14,
     "metadata": {},
     "output_type": "execute_result"
    }
   ],
   "source": [
    "#分母 = 2,16,15,7,0\n",
    "twitter_archive_enhanced[twitter_archive_enhanced.rating_denominator==2]"
   ]
  },
  {
   "cell_type": "code",
   "execution_count": 15,
   "metadata": {},
   "outputs": [
    {
     "data": {
      "text/plain": [
       "'@docmisterio account started on 11/15/15'"
      ]
     },
     "execution_count": 15,
     "metadata": {},
     "output_type": "execute_result"
    }
   ],
   "source": [
    "twitter_archive_enhanced.iloc[342][5]"
   ]
  },
  {
   "cell_type": "code",
   "execution_count": 16,
   "metadata": {},
   "outputs": [
    {
     "data": {
      "text/plain": [
       "None     2259\n",
       "doggo      97\n",
       "Name: doggo, dtype: int64"
      ]
     },
     "execution_count": 16,
     "metadata": {},
     "output_type": "execute_result"
    }
   ],
   "source": [
    "twitter_archive_enhanced['doggo'].value_counts()"
   ]
  },
  {
   "cell_type": "code",
   "execution_count": 17,
   "metadata": {},
   "outputs": [
    {
     "data": {
      "text/plain": [
       "None            745\n",
       "a                55\n",
       "Charlie          12\n",
       "Cooper           11\n",
       "Lucy             11\n",
       "Oliver           11\n",
       "Tucker           10\n",
       "Penny            10\n",
       "Lola             10\n",
       "Winston           9\n",
       "Bo                9\n",
       "Sadie             8\n",
       "the               8\n",
       "Buddy             7\n",
       "Daisy             7\n",
       "an                7\n",
       "Bailey            7\n",
       "Toby              7\n",
       "Oscar             6\n",
       "Dave              6\n",
       "Bella             6\n",
       "Jax               6\n",
       "Leo               6\n",
       "Koda              6\n",
       "Milo              6\n",
       "Stanley           6\n",
       "Jack              6\n",
       "Rusty             6\n",
       "Scout             6\n",
       "Oakley            5\n",
       "               ... \n",
       "Liam              1\n",
       "Frönq             1\n",
       "Sora              1\n",
       "Fynn              1\n",
       "Ronnie            1\n",
       "DayZ              1\n",
       "Terrenth          1\n",
       "Ike               1\n",
       "Dook              1\n",
       "Odin              1\n",
       "Pubert            1\n",
       "Marty             1\n",
       "Smiley            1\n",
       "Sephie            1\n",
       "Socks             1\n",
       "Willie            1\n",
       "Rooney            1\n",
       "Maxwell           1\n",
       "Chuck             1\n",
       "Tonks             1\n",
       "Fletcher          1\n",
       "Florence          1\n",
       "unacceptable      1\n",
       "Cheesy            1\n",
       "Charl             1\n",
       "Shelby            1\n",
       "Grizzie           1\n",
       "Mya               1\n",
       "Karl              1\n",
       "Damon             1\n",
       "Name: name, Length: 957, dtype: int64"
      ]
     },
     "execution_count": 17,
     "metadata": {},
     "output_type": "execute_result"
    }
   ],
   "source": [
    "twitter_archive_enhanced.name.value_counts()"
   ]
  },
  {
   "cell_type": "code",
   "execution_count": 18,
   "metadata": {},
   "outputs": [
    {
     "data": {
      "text/plain": [
       "['the',\n",
       " 'life',\n",
       " 'not',\n",
       " 'by',\n",
       " 'his',\n",
       " 'very',\n",
       " 'old',\n",
       " 'space',\n",
       " 'an',\n",
       " 'one',\n",
       " 'my',\n",
       " 'this',\n",
       " 'unacceptable',\n",
       " 'just',\n",
       " 'infuriating',\n",
       " 'quite',\n",
       " 'actually',\n",
       " 'all',\n",
       " 'getting',\n",
       " 'mad',\n",
       " 'such',\n",
       " 'light',\n",
       " 'officially',\n",
       " 'a',\n",
       " 'incredibly',\n",
       " 'None']"
      ]
     },
     "execution_count": 18,
     "metadata": {},
     "output_type": "execute_result"
    }
   ],
   "source": [
    "#查看name列有多少小写开头的单词\n",
    "name = twitter_archive_enhanced['name']\n",
    "error_name = []\n",
    "for i in name:\n",
    "    if ord('a')<=ord(i[0])<= ord('z'):\n",
    "        error_name.append(i)\n",
    "        \n",
    "error_name = list(set(error_name))\n",
    "error_name.append('None') #将None也添加至error_name中，方便后面进行统一替换\n",
    "error_name"
   ]
  },
  {
   "cell_type": "code",
   "execution_count": 19,
   "metadata": {},
   "outputs": [
    {
     "data": {
      "text/plain": [
       "1800    https://twitter.com/dog_rates/status/676975532...\n",
       "333     https://twitter.com/dog_rates/status/832757312...\n",
       "2071    https://twitter.com/dog_rates/status/671115716...\n",
       "1743                        https://vine.co/v/iKVFEigMLxP\n",
       "1233    https://twitter.com/dog_rates/status/712809025...\n",
       "Name: expanded_urls, dtype: object"
      ]
     },
     "execution_count": 19,
     "metadata": {},
     "output_type": "execute_result"
    }
   ],
   "source": [
    "twitter_archive_enhanced['expanded_urls'].sample(5)"
   ]
  },
  {
   "cell_type": "code",
   "execution_count": 20,
   "metadata": {},
   "outputs": [
    {
     "data": {
      "text/html": [
       "<div>\n",
       "<style scoped>\n",
       "    .dataframe tbody tr th:only-of-type {\n",
       "        vertical-align: middle;\n",
       "    }\n",
       "\n",
       "    .dataframe tbody tr th {\n",
       "        vertical-align: top;\n",
       "    }\n",
       "\n",
       "    .dataframe thead th {\n",
       "        text-align: right;\n",
       "    }\n",
       "</style>\n",
       "<table border=\"1\" class=\"dataframe\">\n",
       "  <thead>\n",
       "    <tr style=\"text-align: right;\">\n",
       "      <th></th>\n",
       "      <th>tweet_id</th>\n",
       "      <th>jpg_url</th>\n",
       "      <th>img_num</th>\n",
       "      <th>p1</th>\n",
       "      <th>p1_conf</th>\n",
       "      <th>p1_dog</th>\n",
       "      <th>p2</th>\n",
       "      <th>p2_conf</th>\n",
       "      <th>p2_dog</th>\n",
       "      <th>p3</th>\n",
       "      <th>p3_conf</th>\n",
       "      <th>p3_dog</th>\n",
       "    </tr>\n",
       "  </thead>\n",
       "  <tbody>\n",
       "    <tr>\n",
       "      <th>384</th>\n",
       "      <td>673343217010679808</td>\n",
       "      <td>https://pbs.twimg.com/media/CVgyFSyU4AA9p1e.jpg</td>\n",
       "      <td>1</td>\n",
       "      <td>Chihuahua</td>\n",
       "      <td>0.541408</td>\n",
       "      <td>True</td>\n",
       "      <td>Italian_greyhound</td>\n",
       "      <td>0.156891</td>\n",
       "      <td>True</td>\n",
       "      <td>miniature_pinscher</td>\n",
       "      <td>0.069556</td>\n",
       "      <td>True</td>\n",
       "    </tr>\n",
       "    <tr>\n",
       "      <th>966</th>\n",
       "      <td>706291001778950144</td>\n",
       "      <td>https://pbs.twimg.com/media/Cc0_2tXXEAA2iTY.jpg</td>\n",
       "      <td>1</td>\n",
       "      <td>Border_terrier</td>\n",
       "      <td>0.587101</td>\n",
       "      <td>True</td>\n",
       "      <td>bull_mastiff</td>\n",
       "      <td>0.164087</td>\n",
       "      <td>True</td>\n",
       "      <td>Staffordshire_bullterrier</td>\n",
       "      <td>0.105011</td>\n",
       "      <td>True</td>\n",
       "    </tr>\n",
       "    <tr>\n",
       "      <th>568</th>\n",
       "      <td>678380236862578688</td>\n",
       "      <td>https://pbs.twimg.com/media/CWoXOfSUAAA4u8g.jpg</td>\n",
       "      <td>1</td>\n",
       "      <td>dogsled</td>\n",
       "      <td>0.088540</td>\n",
       "      <td>False</td>\n",
       "      <td>snowmobile</td>\n",
       "      <td>0.057291</td>\n",
       "      <td>False</td>\n",
       "      <td>Samoyed</td>\n",
       "      <td>0.047601</td>\n",
       "      <td>True</td>\n",
       "    </tr>\n",
       "    <tr>\n",
       "      <th>823</th>\n",
       "      <td>693155686491000832</td>\n",
       "      <td>https://pbs.twimg.com/media/CZ6VatdWwAAwHly.jpg</td>\n",
       "      <td>3</td>\n",
       "      <td>Shih-Tzu</td>\n",
       "      <td>0.697480</td>\n",
       "      <td>True</td>\n",
       "      <td>Lhasa</td>\n",
       "      <td>0.200151</td>\n",
       "      <td>True</td>\n",
       "      <td>Tibetan_terrier</td>\n",
       "      <td>0.090970</td>\n",
       "      <td>True</td>\n",
       "    </tr>\n",
       "    <tr>\n",
       "      <th>595</th>\n",
       "      <td>679511351870550016</td>\n",
       "      <td>https://pbs.twimg.com/media/CW4b-GUWYAAa8QO.jpg</td>\n",
       "      <td>1</td>\n",
       "      <td>Chihuahua</td>\n",
       "      <td>0.761972</td>\n",
       "      <td>True</td>\n",
       "      <td>black-footed_ferret</td>\n",
       "      <td>0.150605</td>\n",
       "      <td>False</td>\n",
       "      <td>squirrel_monkey</td>\n",
       "      <td>0.028148</td>\n",
       "      <td>False</td>\n",
       "    </tr>\n",
       "  </tbody>\n",
       "</table>\n",
       "</div>"
      ],
      "text/plain": [
       "               tweet_id                                          jpg_url  \\\n",
       "384  673343217010679808  https://pbs.twimg.com/media/CVgyFSyU4AA9p1e.jpg   \n",
       "966  706291001778950144  https://pbs.twimg.com/media/Cc0_2tXXEAA2iTY.jpg   \n",
       "568  678380236862578688  https://pbs.twimg.com/media/CWoXOfSUAAA4u8g.jpg   \n",
       "823  693155686491000832  https://pbs.twimg.com/media/CZ6VatdWwAAwHly.jpg   \n",
       "595  679511351870550016  https://pbs.twimg.com/media/CW4b-GUWYAAa8QO.jpg   \n",
       "\n",
       "     img_num              p1   p1_conf  p1_dog                   p2   p2_conf  \\\n",
       "384        1       Chihuahua  0.541408    True    Italian_greyhound  0.156891   \n",
       "966        1  Border_terrier  0.587101    True         bull_mastiff  0.164087   \n",
       "568        1         dogsled  0.088540   False           snowmobile  0.057291   \n",
       "823        3        Shih-Tzu  0.697480    True                Lhasa  0.200151   \n",
       "595        1       Chihuahua  0.761972    True  black-footed_ferret  0.150605   \n",
       "\n",
       "     p2_dog                         p3   p3_conf  p3_dog  \n",
       "384    True         miniature_pinscher  0.069556    True  \n",
       "966    True  Staffordshire_bullterrier  0.105011    True  \n",
       "568   False                    Samoyed  0.047601    True  \n",
       "823    True            Tibetan_terrier  0.090970    True  \n",
       "595   False            squirrel_monkey  0.028148   False  "
      ]
     },
     "execution_count": 20,
     "metadata": {},
     "output_type": "execute_result"
    }
   ],
   "source": [
    "image_predictions.sample(5)"
   ]
  },
  {
   "cell_type": "code",
   "execution_count": 21,
   "metadata": {},
   "outputs": [
    {
     "data": {
      "text/plain": [
       "golden_retriever             150\n",
       "Labrador_retriever           100\n",
       "Pembroke                      89\n",
       "Chihuahua                     83\n",
       "pug                           57\n",
       "chow                          44\n",
       "Samoyed                       43\n",
       "toy_poodle                    39\n",
       "Pomeranian                    38\n",
       "malamute                      30\n",
       "cocker_spaniel                30\n",
       "French_bulldog                26\n",
       "Chesapeake_Bay_retriever      23\n",
       "miniature_pinscher            23\n",
       "seat_belt                     22\n",
       "German_shepherd               20\n",
       "Siberian_husky                20\n",
       "Staffordshire_bullterrier     20\n",
       "Cardigan                      19\n",
       "web_site                      19\n",
       "Maltese_dog                   18\n",
       "Eskimo_dog                    18\n",
       "Shetland_sheepdog             18\n",
       "teddy                         18\n",
       "beagle                        18\n",
       "Rottweiler                    17\n",
       "Shih-Tzu                      17\n",
       "Lakeland_terrier              17\n",
       "Italian_greyhound             16\n",
       "kuvasz                        16\n",
       "                            ... \n",
       "tricycle                       1\n",
       "wooden_spoon                   1\n",
       "ibex                           1\n",
       "African_crocodile              1\n",
       "agama                          1\n",
       "scorpion                       1\n",
       "mud_turtle                     1\n",
       "sandbar                        1\n",
       "cougar                         1\n",
       "Madagascar_cat                 1\n",
       "panpipe                        1\n",
       "revolver                       1\n",
       "bakery                         1\n",
       "espresso                       1\n",
       "dhole                          1\n",
       "shield                         1\n",
       "pitcher                        1\n",
       "timber_wolf                    1\n",
       "cuirass                        1\n",
       "limousine                      1\n",
       "crash_helmet                   1\n",
       "black-footed_ferret            1\n",
       "platypus                       1\n",
       "handkerchief                   1\n",
       "pool_table                     1\n",
       "hand_blower                    1\n",
       "snowmobile                     1\n",
       "hammer                         1\n",
       "ocarina                        1\n",
       "bib                            1\n",
       "Name: p1, Length: 378, dtype: int64"
      ]
     },
     "execution_count": 21,
     "metadata": {},
     "output_type": "execute_result"
    }
   ],
   "source": [
    "image_predictions.p1.value_counts()"
   ]
  },
  {
   "cell_type": "code",
   "execution_count": 22,
   "metadata": {},
   "outputs": [
    {
     "name": "stdout",
     "output_type": "stream",
     "text": [
      "<class 'pandas.core.frame.DataFrame'>\n",
      "RangeIndex: 2075 entries, 0 to 2074\n",
      "Data columns (total 12 columns):\n",
      "tweet_id    2075 non-null int64\n",
      "jpg_url     2075 non-null object\n",
      "img_num     2075 non-null int64\n",
      "p1          2075 non-null object\n",
      "p1_conf     2075 non-null float64\n",
      "p1_dog      2075 non-null bool\n",
      "p2          2075 non-null object\n",
      "p2_conf     2075 non-null float64\n",
      "p2_dog      2075 non-null bool\n",
      "p3          2075 non-null object\n",
      "p3_conf     2075 non-null float64\n",
      "p3_dog      2075 non-null bool\n",
      "dtypes: bool(3), float64(3), int64(2), object(4)\n",
      "memory usage: 152.1+ KB\n"
     ]
    }
   ],
   "source": [
    "image_predictions.info()"
   ]
  },
  {
   "cell_type": "code",
   "execution_count": 23,
   "metadata": {},
   "outputs": [
    {
     "data": {
      "text/plain": [
       "1    1780\n",
       "2     198\n",
       "3      66\n",
       "4      31\n",
       "Name: img_num, dtype: int64"
      ]
     },
     "execution_count": 23,
     "metadata": {},
     "output_type": "execute_result"
    }
   ],
   "source": [
    "image_predictions['img_num'].value_counts()"
   ]
  },
  {
   "cell_type": "code",
   "execution_count": 24,
   "metadata": {},
   "outputs": [
    {
     "name": "stdout",
     "output_type": "stream",
     "text": [
      "<class 'pandas.core.frame.DataFrame'>\n",
      "RangeIndex: 2352 entries, 0 to 2351\n",
      "Data columns (total 3 columns):\n",
      "favorite_count    2352 non-null int64\n",
      "retweet_count     2352 non-null int64\n",
      "tweet_ID          2352 non-null object\n",
      "dtypes: int64(2), object(1)\n",
      "memory usage: 55.2+ KB\n"
     ]
    }
   ],
   "source": [
    "tweet_extra.info()"
   ]
  },
  {
   "cell_type": "markdown",
   "metadata": {},
   "source": [
    "#### 整洁度问题\n",
    "###### `twitter_archive_enhanced表`\n",
    "1. 存在转发评级，其中retweeted_status_id 不为空的的数据为转发评级，需要删除\n",
    "2. 没有图片的评分的数据需要删除，将image_predictions 合并到twitter_archive_copy后，删除jpg_url为空的数据\n",
    "3. tweet_id,in_reply_to_status_id,in_reply_to_user_id,retweeted_status_id,retweeted_status_user_id 不应该是int64类型，而应该是string类型; timestamp应该是日期类型\n",
    "4. twitter_ID为835246439529840640的评分不应该是960/0，而应该是13/10； twitter_ID为666287406224695296的评分不是1/2，而是9/10\n",
    "5. 分数分母rating_denominator 为16，15，7都不符合规范，需要去掉\n",
    "6. Name为'a','an','the','this','all','very'等小写字母开头的单词都不是真实的名字，需要改为Nan;同时name为‘None’的值也需要替换为Nan\n",
    "7. source 应该只用保留中间内容\n",
    "8. twitter_ID为810984652412424192的 expanded_urls有由逗号隔开的两个链接，其实只需要后面的链接即可\n",
    "9. tweet_extra_copy 中的favorite_count与retweet_count合并至twitter_archive_enhanced后数据类型变为了float类型，应该转换为int类型\n",
    "##### `image_predictions表`\n",
    "9. tweet_id应该是object类型,img_num应该是object类型。\n",
    "10. p1,p2,p3,p4狗狗类别的大小写不一致，应该全部改为大写\n",
    "\n",
    "#### 质量问题\n",
    "`twitter_archive_enhanced表`\n",
    "1. doggo,floofer,pupper,puppo 应该合并为一个变量\n",
    "2. twitter_extra的转发数和喜欢数表格合并到twitter_archive_enhanced中"
   ]
  },
  {
   "cell_type": "markdown",
   "metadata": {},
   "source": [
    "## 数据整理"
   ]
  },
  {
   "cell_type": "code",
   "execution_count": 7,
   "metadata": {},
   "outputs": [],
   "source": [
    "twitter_archive_copy = twitter_archive_enhanced.copy()\n",
    "tweet_extra_copy = tweet_extra.copy()\n",
    "image_predictions_copy = image_predictions.copy()"
   ]
  },
  {
   "cell_type": "code",
   "execution_count": 8,
   "metadata": {},
   "outputs": [],
   "source": [
    "import re\n",
    "stages = ['doggo','floor','pupper','puppo']\n",
    "def stt(line):\n",
    "    val = ','.join(list(set(re.findall(r'(doggo+|floor+|pupper+|puppo+)',line))))\n",
    "    if val !='':\n",
    "        return val\n",
    "    return np.nan\n",
    "twitter_archive_copy['stage']=twitter_archive_copy['text'].map(stt)"
   ]
  },
  {
   "cell_type": "code",
   "execution_count": 9,
   "metadata": {},
   "outputs": [
    {
     "data": {
      "text/plain": [
       "0          NaN\n",
       "1          NaN\n",
       "2          NaN\n",
       "3          NaN\n",
       "4          NaN\n",
       "5          NaN\n",
       "6          NaN\n",
       "7          NaN\n",
       "8          NaN\n",
       "9        doggo\n",
       "10         NaN\n",
       "11         NaN\n",
       "12       puppo\n",
       "13         NaN\n",
       "14       puppo\n",
       "15         NaN\n",
       "16         NaN\n",
       "17         NaN\n",
       "18         NaN\n",
       "19         NaN\n",
       "20         NaN\n",
       "21         NaN\n",
       "22         NaN\n",
       "23         NaN\n",
       "24         NaN\n",
       "25         NaN\n",
       "26         NaN\n",
       "27         NaN\n",
       "28         NaN\n",
       "29      pupper\n",
       "         ...  \n",
       "2326       NaN\n",
       "2327       NaN\n",
       "2328       NaN\n",
       "2329       NaN\n",
       "2330       NaN\n",
       "2331       NaN\n",
       "2332       NaN\n",
       "2333       NaN\n",
       "2334       NaN\n",
       "2335     floor\n",
       "2336       NaN\n",
       "2337       NaN\n",
       "2338       NaN\n",
       "2339       NaN\n",
       "2340       NaN\n",
       "2341       NaN\n",
       "2342       NaN\n",
       "2343       NaN\n",
       "2344       NaN\n",
       "2345       NaN\n",
       "2346       NaN\n",
       "2347       NaN\n",
       "2348       NaN\n",
       "2349       NaN\n",
       "2350       NaN\n",
       "2351       NaN\n",
       "2352       NaN\n",
       "2353       NaN\n",
       "2354       NaN\n",
       "2355       NaN\n",
       "Name: stage, Length: 2356, dtype: object"
      ]
     },
     "execution_count": 9,
     "metadata": {},
     "output_type": "execute_result"
    }
   ],
   "source": [
    "twitter_archive_copy['stage']"
   ]
  },
  {
   "cell_type": "code",
   "execution_count": 26,
   "metadata": {},
   "outputs": [
    {
     "data": {
      "text/plain": [
       "pupper          262\n",
       "doggo            86\n",
       "puppo            35\n",
       "doggo,pupper     10\n",
       "floor             6\n",
       "puppo,doggo       2\n",
       "Name: stage, dtype: int64"
      ]
     },
     "execution_count": 26,
     "metadata": {},
     "output_type": "execute_result"
    }
   ],
   "source": [
    "twitter_archive_copy['stage'].value_counts()"
   ]
  },
  {
   "cell_type": "code",
   "execution_count": 43,
   "metadata": {},
   "outputs": [
    {
     "data": {
      "text/plain": [
       "['puppo', 'doggo']"
      ]
     },
     "execution_count": 43,
     "metadata": {},
     "output_type": "execute_result"
    }
   ],
   "source": [
    "twitter_archive_copy.iloc[191][17]"
   ]
  },
  {
   "cell_type": "code",
   "execution_count": 34,
   "metadata": {},
   "outputs": [
    {
     "name": "stdout",
     "output_type": "stream",
     "text": [
      "<class 'pandas.core.frame.DataFrame'>\n",
      "RangeIndex: 2356 entries, 0 to 2355\n",
      "Data columns (total 18 columns):\n",
      "tweet_id                      2356 non-null int64\n",
      "in_reply_to_status_id         78 non-null float64\n",
      "in_reply_to_user_id           78 non-null float64\n",
      "timestamp                     2356 non-null object\n",
      "source                        2356 non-null object\n",
      "text                          2356 non-null object\n",
      "retweeted_status_id           181 non-null float64\n",
      "retweeted_status_user_id      181 non-null float64\n",
      "retweeted_status_timestamp    181 non-null object\n",
      "expanded_urls                 2297 non-null object\n",
      "rating_numerator              2356 non-null int64\n",
      "rating_denominator            2356 non-null int64\n",
      "name                          2356 non-null object\n",
      "doggo                         2356 non-null object\n",
      "floofer                       2356 non-null object\n",
      "pupper                        2356 non-null object\n",
      "puppo                         2356 non-null object\n",
      "stage                         2356 non-null object\n",
      "dtypes: float64(4), int64(3), object(11)\n",
      "memory usage: 331.4+ KB\n"
     ]
    }
   ],
   "source": [
    "twitter_archive_copy.info()"
   ]
  },
  {
   "cell_type": "code",
   "execution_count": 18,
   "metadata": {},
   "outputs": [
    {
     "name": "stdout",
     "output_type": "stream",
     "text": [
      "1\n",
      "2\n",
      "3\n",
      "4\n",
      "5\n",
      "6\n"
     ]
    }
   ],
   "source": [
    "m = [1,2,3,4,5,6]\n",
    "for i in m:\n",
    "    print(i)"
   ]
  },
  {
   "cell_type": "markdown",
   "metadata": {},
   "source": [
    "### 整洁度问题\n",
    "#### 定义\n",
    "* doggo,floofer,pupper,puppo 应该合并为一个变量\n",
    "* 使用melt函数,需要考虑这样几个问题（1）有的狗狗的称号不只一个，（2）使用melt函数如何去除重复值\n",
    "* 可经过以下七步进行操作\n",
    "#### 代码"
   ]
  },
  {
   "cell_type": "markdown",
   "metadata": {},
   "source": [
    "** 第一步 ：使用melt函数合并列**"
   ]
  },
  {
   "cell_type": "code",
   "execution_count": 53,
   "metadata": {
    "collapsed": true
   },
   "outputs": [],
   "source": [
    "twitter_archive_copy=pd.melt(twitter_archive_copy,id_vars=['tweet_id','in_reply_to_status_id',\n",
    "                                                           'in_reply_to_user_id','timestamp',\n",
    "                                                           'source','text','retweeted_status_id','retweeted_status_user_id',\n",
    "                                                           'retweeted_status_timestamp','expanded_urls','rating_numerator',\n",
    "                                                           'rating_denominator','name'],value_name='social_status')\n"
   ]
  },
  {
   "cell_type": "code",
   "execution_count": 54,
   "metadata": {},
   "outputs": [
    {
     "data": {
      "text/plain": [
       "9424"
      ]
     },
     "execution_count": 54,
     "metadata": {},
     "output_type": "execute_result"
    }
   ],
   "source": [
    "twitter_archive_copy.tweet_id.count()"
   ]
  },
  {
   "cell_type": "code",
   "execution_count": 55,
   "metadata": {},
   "outputs": [
    {
     "data": {
      "text/plain": [
       "None       9030\n",
       "pupper      257\n",
       "doggo        97\n",
       "puppo        30\n",
       "floofer      10\n",
       "Name: social_status, dtype: int64"
      ]
     },
     "execution_count": 55,
     "metadata": {},
     "output_type": "execute_result"
    }
   ],
   "source": [
    "twitter_archive_copy.social_status.value_counts()"
   ]
  },
  {
   "cell_type": "markdown",
   "metadata": {},
   "source": [
    "* 问题：出现很多重复列\n",
    "\n",
    "** 第二步：取出social_status为None的值**"
   ]
  },
  {
   "cell_type": "code",
   "execution_count": 56,
   "metadata": {},
   "outputs": [
    {
     "data": {
      "text/html": [
       "<div>\n",
       "<style scoped>\n",
       "    .dataframe tbody tr th:only-of-type {\n",
       "        vertical-align: middle;\n",
       "    }\n",
       "\n",
       "    .dataframe tbody tr th {\n",
       "        vertical-align: top;\n",
       "    }\n",
       "\n",
       "    .dataframe thead th {\n",
       "        text-align: right;\n",
       "    }\n",
       "</style>\n",
       "<table border=\"1\" class=\"dataframe\">\n",
       "  <thead>\n",
       "    <tr style=\"text-align: right;\">\n",
       "      <th></th>\n",
       "      <th>tweet_id</th>\n",
       "      <th>in_reply_to_status_id</th>\n",
       "      <th>in_reply_to_user_id</th>\n",
       "      <th>timestamp</th>\n",
       "      <th>source</th>\n",
       "      <th>text</th>\n",
       "      <th>retweeted_status_id</th>\n",
       "      <th>retweeted_status_user_id</th>\n",
       "      <th>retweeted_status_timestamp</th>\n",
       "      <th>expanded_urls</th>\n",
       "      <th>rating_numerator</th>\n",
       "      <th>rating_denominator</th>\n",
       "      <th>name</th>\n",
       "      <th>variable</th>\n",
       "      <th>social_status</th>\n",
       "    </tr>\n",
       "  </thead>\n",
       "  <tbody>\n",
       "    <tr>\n",
       "      <th>0</th>\n",
       "      <td>892420643555336193</td>\n",
       "      <td>NaN</td>\n",
       "      <td>NaN</td>\n",
       "      <td>2017-08-01 16:23:56 +0000</td>\n",
       "      <td>&lt;a href=\"http://twitter.com/download/iphone\" r...</td>\n",
       "      <td>This is Phineas. He's a mystical boy. Only eve...</td>\n",
       "      <td>NaN</td>\n",
       "      <td>NaN</td>\n",
       "      <td>NaN</td>\n",
       "      <td>https://twitter.com/dog_rates/status/892420643...</td>\n",
       "      <td>13</td>\n",
       "      <td>10</td>\n",
       "      <td>Phineas</td>\n",
       "      <td>doggo</td>\n",
       "      <td>None</td>\n",
       "    </tr>\n",
       "    <tr>\n",
       "      <th>1</th>\n",
       "      <td>892177421306343426</td>\n",
       "      <td>NaN</td>\n",
       "      <td>NaN</td>\n",
       "      <td>2017-08-01 00:17:27 +0000</td>\n",
       "      <td>&lt;a href=\"http://twitter.com/download/iphone\" r...</td>\n",
       "      <td>This is Tilly. She's just checking pup on you....</td>\n",
       "      <td>NaN</td>\n",
       "      <td>NaN</td>\n",
       "      <td>NaN</td>\n",
       "      <td>https://twitter.com/dog_rates/status/892177421...</td>\n",
       "      <td>13</td>\n",
       "      <td>10</td>\n",
       "      <td>Tilly</td>\n",
       "      <td>doggo</td>\n",
       "      <td>None</td>\n",
       "    </tr>\n",
       "    <tr>\n",
       "      <th>2</th>\n",
       "      <td>891815181378084864</td>\n",
       "      <td>NaN</td>\n",
       "      <td>NaN</td>\n",
       "      <td>2017-07-31 00:18:03 +0000</td>\n",
       "      <td>&lt;a href=\"http://twitter.com/download/iphone\" r...</td>\n",
       "      <td>This is Archie. He is a rare Norwegian Pouncin...</td>\n",
       "      <td>NaN</td>\n",
       "      <td>NaN</td>\n",
       "      <td>NaN</td>\n",
       "      <td>https://twitter.com/dog_rates/status/891815181...</td>\n",
       "      <td>12</td>\n",
       "      <td>10</td>\n",
       "      <td>Archie</td>\n",
       "      <td>doggo</td>\n",
       "      <td>None</td>\n",
       "    </tr>\n",
       "    <tr>\n",
       "      <th>3</th>\n",
       "      <td>891689557279858688</td>\n",
       "      <td>NaN</td>\n",
       "      <td>NaN</td>\n",
       "      <td>2017-07-30 15:58:51 +0000</td>\n",
       "      <td>&lt;a href=\"http://twitter.com/download/iphone\" r...</td>\n",
       "      <td>This is Darla. She commenced a snooze mid meal...</td>\n",
       "      <td>NaN</td>\n",
       "      <td>NaN</td>\n",
       "      <td>NaN</td>\n",
       "      <td>https://twitter.com/dog_rates/status/891689557...</td>\n",
       "      <td>13</td>\n",
       "      <td>10</td>\n",
       "      <td>Darla</td>\n",
       "      <td>doggo</td>\n",
       "      <td>None</td>\n",
       "    </tr>\n",
       "    <tr>\n",
       "      <th>4</th>\n",
       "      <td>891327558926688256</td>\n",
       "      <td>NaN</td>\n",
       "      <td>NaN</td>\n",
       "      <td>2017-07-29 16:00:24 +0000</td>\n",
       "      <td>&lt;a href=\"http://twitter.com/download/iphone\" r...</td>\n",
       "      <td>This is Franklin. He would like you to stop ca...</td>\n",
       "      <td>NaN</td>\n",
       "      <td>NaN</td>\n",
       "      <td>NaN</td>\n",
       "      <td>https://twitter.com/dog_rates/status/891327558...</td>\n",
       "      <td>12</td>\n",
       "      <td>10</td>\n",
       "      <td>Franklin</td>\n",
       "      <td>doggo</td>\n",
       "      <td>None</td>\n",
       "    </tr>\n",
       "  </tbody>\n",
       "</table>\n",
       "</div>"
      ],
      "text/plain": [
       "             tweet_id  in_reply_to_status_id  in_reply_to_user_id  \\\n",
       "0  892420643555336193                    NaN                  NaN   \n",
       "1  892177421306343426                    NaN                  NaN   \n",
       "2  891815181378084864                    NaN                  NaN   \n",
       "3  891689557279858688                    NaN                  NaN   \n",
       "4  891327558926688256                    NaN                  NaN   \n",
       "\n",
       "                   timestamp  \\\n",
       "0  2017-08-01 16:23:56 +0000   \n",
       "1  2017-08-01 00:17:27 +0000   \n",
       "2  2017-07-31 00:18:03 +0000   \n",
       "3  2017-07-30 15:58:51 +0000   \n",
       "4  2017-07-29 16:00:24 +0000   \n",
       "\n",
       "                                              source  \\\n",
       "0  <a href=\"http://twitter.com/download/iphone\" r...   \n",
       "1  <a href=\"http://twitter.com/download/iphone\" r...   \n",
       "2  <a href=\"http://twitter.com/download/iphone\" r...   \n",
       "3  <a href=\"http://twitter.com/download/iphone\" r...   \n",
       "4  <a href=\"http://twitter.com/download/iphone\" r...   \n",
       "\n",
       "                                                text  retweeted_status_id  \\\n",
       "0  This is Phineas. He's a mystical boy. Only eve...                  NaN   \n",
       "1  This is Tilly. She's just checking pup on you....                  NaN   \n",
       "2  This is Archie. He is a rare Norwegian Pouncin...                  NaN   \n",
       "3  This is Darla. She commenced a snooze mid meal...                  NaN   \n",
       "4  This is Franklin. He would like you to stop ca...                  NaN   \n",
       "\n",
       "   retweeted_status_user_id retweeted_status_timestamp  \\\n",
       "0                       NaN                        NaN   \n",
       "1                       NaN                        NaN   \n",
       "2                       NaN                        NaN   \n",
       "3                       NaN                        NaN   \n",
       "4                       NaN                        NaN   \n",
       "\n",
       "                                       expanded_urls  rating_numerator  \\\n",
       "0  https://twitter.com/dog_rates/status/892420643...                13   \n",
       "1  https://twitter.com/dog_rates/status/892177421...                13   \n",
       "2  https://twitter.com/dog_rates/status/891815181...                12   \n",
       "3  https://twitter.com/dog_rates/status/891689557...                13   \n",
       "4  https://twitter.com/dog_rates/status/891327558...                12   \n",
       "\n",
       "   rating_denominator      name variable social_status  \n",
       "0                  10   Phineas    doggo          None  \n",
       "1                  10     Tilly    doggo          None  \n",
       "2                  10    Archie    doggo          None  \n",
       "3                  10     Darla    doggo          None  \n",
       "4                  10  Franklin    doggo          None  "
      ]
     },
     "execution_count": 56,
     "metadata": {},
     "output_type": "execute_result"
    }
   ],
   "source": [
    "none = twitter_archive_copy[twitter_archive_copy.social_status == 'None']\n",
    "none.head(5)"
   ]
  },
  {
   "cell_type": "markdown",
   "metadata": {},
   "source": [
    "**第三步：将none数据根据tweet_id去重**"
   ]
  },
  {
   "cell_type": "code",
   "execution_count": 57,
   "metadata": {},
   "outputs": [
    {
     "data": {
      "text/plain": [
       "None    2356\n",
       "Name: social_status, dtype: int64"
      ]
     },
     "execution_count": 57,
     "metadata": {},
     "output_type": "execute_result"
    }
   ],
   "source": [
    "none = none.drop_duplicates(['tweet_id'])\n",
    "none.social_status.value_counts()"
   ]
  },
  {
   "cell_type": "markdown",
   "metadata": {},
   "source": [
    "**第四步：去除twitter_archive_copy中social_status为None的数据**"
   ]
  },
  {
   "cell_type": "code",
   "execution_count": 58,
   "metadata": {},
   "outputs": [
    {
     "data": {
      "text/plain": [
       "pupper     257\n",
       "doggo       97\n",
       "puppo       30\n",
       "floofer     10\n",
       "Name: social_status, dtype: int64"
      ]
     },
     "execution_count": 58,
     "metadata": {},
     "output_type": "execute_result"
    }
   ],
   "source": [
    "twitter_archive_copy = twitter_archive_copy[twitter_archive_copy.social_status!='None']\n",
    "twitter_archive_copy.social_status.value_counts()"
   ]
  },
  {
   "cell_type": "markdown",
   "metadata": {},
   "source": [
    "**第五步：将twitter_archive_copy有两个social_status名称的数据进行合并**"
   ]
  },
  {
   "cell_type": "code",
   "execution_count": 59,
   "metadata": {},
   "outputs": [
    {
     "data": {
      "text/html": [
       "<div>\n",
       "<style scoped>\n",
       "    .dataframe tbody tr th:only-of-type {\n",
       "        vertical-align: middle;\n",
       "    }\n",
       "\n",
       "    .dataframe tbody tr th {\n",
       "        vertical-align: top;\n",
       "    }\n",
       "\n",
       "    .dataframe thead th {\n",
       "        text-align: right;\n",
       "    }\n",
       "</style>\n",
       "<table border=\"1\" class=\"dataframe\">\n",
       "  <thead>\n",
       "    <tr style=\"text-align: right;\">\n",
       "      <th></th>\n",
       "      <th>tweet_id</th>\n",
       "      <th>in_reply_to_status_id</th>\n",
       "      <th>in_reply_to_user_id</th>\n",
       "      <th>timestamp</th>\n",
       "      <th>source</th>\n",
       "      <th>text</th>\n",
       "      <th>retweeted_status_id</th>\n",
       "      <th>retweeted_status_user_id</th>\n",
       "      <th>retweeted_status_timestamp</th>\n",
       "      <th>expanded_urls</th>\n",
       "      <th>rating_numerator</th>\n",
       "      <th>rating_denominator</th>\n",
       "      <th>name</th>\n",
       "      <th>variable</th>\n",
       "      <th>social_status</th>\n",
       "    </tr>\n",
       "  </thead>\n",
       "  <tbody>\n",
       "    <tr>\n",
       "      <th>2556</th>\n",
       "      <td>854010172552949760</td>\n",
       "      <td>NaN</td>\n",
       "      <td>NaN</td>\n",
       "      <td>2017-04-17 16:34:26 +0000</td>\n",
       "      <td>&lt;a href=\"http://twitter.com/download/iphone\" r...</td>\n",
       "      <td>At first I thought this was a shy doggo, but i...</td>\n",
       "      <td>NaN</td>\n",
       "      <td>NaN</td>\n",
       "      <td>NaN</td>\n",
       "      <td>https://twitter.com/dog_rates/status/854010172...</td>\n",
       "      <td>11</td>\n",
       "      <td>10</td>\n",
       "      <td>None</td>\n",
       "      <td>floofer</td>\n",
       "      <td>floofer</td>\n",
       "    </tr>\n",
       "    <tr>\n",
       "      <th>5172</th>\n",
       "      <td>817777686764523521</td>\n",
       "      <td>NaN</td>\n",
       "      <td>NaN</td>\n",
       "      <td>2017-01-07 16:59:28 +0000</td>\n",
       "      <td>&lt;a href=\"http://twitter.com/download/iphone\" r...</td>\n",
       "      <td>This is Dido. She's playing the lead role in \"...</td>\n",
       "      <td>NaN</td>\n",
       "      <td>NaN</td>\n",
       "      <td>NaN</td>\n",
       "      <td>https://twitter.com/dog_rates/status/817777686...</td>\n",
       "      <td>13</td>\n",
       "      <td>10</td>\n",
       "      <td>Dido</td>\n",
       "      <td>pupper</td>\n",
       "      <td>pupper</td>\n",
       "    </tr>\n",
       "    <tr>\n",
       "      <th>5243</th>\n",
       "      <td>808106460588765185</td>\n",
       "      <td>NaN</td>\n",
       "      <td>NaN</td>\n",
       "      <td>2016-12-12 00:29:28 +0000</td>\n",
       "      <td>&lt;a href=\"http://twitter.com/download/iphone\" r...</td>\n",
       "      <td>Here we have Burke (pupper) and Dexter (doggo)...</td>\n",
       "      <td>NaN</td>\n",
       "      <td>NaN</td>\n",
       "      <td>NaN</td>\n",
       "      <td>https://twitter.com/dog_rates/status/808106460...</td>\n",
       "      <td>12</td>\n",
       "      <td>10</td>\n",
       "      <td>None</td>\n",
       "      <td>pupper</td>\n",
       "      <td>pupper</td>\n",
       "    </tr>\n",
       "    <tr>\n",
       "      <th>5277</th>\n",
       "      <td>802265048156610565</td>\n",
       "      <td>7.331095e+17</td>\n",
       "      <td>4.196984e+09</td>\n",
       "      <td>2016-11-25 21:37:47 +0000</td>\n",
       "      <td>&lt;a href=\"http://twitter.com/download/iphone\" r...</td>\n",
       "      <td>Like doggo, like pupper version 2. Both 11/10 ...</td>\n",
       "      <td>NaN</td>\n",
       "      <td>NaN</td>\n",
       "      <td>NaN</td>\n",
       "      <td>https://twitter.com/dog_rates/status/802265048...</td>\n",
       "      <td>11</td>\n",
       "      <td>10</td>\n",
       "      <td>None</td>\n",
       "      <td>pupper</td>\n",
       "      <td>pupper</td>\n",
       "    </tr>\n",
       "    <tr>\n",
       "      <th>5287</th>\n",
       "      <td>801115127852503040</td>\n",
       "      <td>NaN</td>\n",
       "      <td>NaN</td>\n",
       "      <td>2016-11-22 17:28:25 +0000</td>\n",
       "      <td>&lt;a href=\"http://twitter.com/download/iphone\" r...</td>\n",
       "      <td>This is Bones. He's being haunted by another d...</td>\n",
       "      <td>NaN</td>\n",
       "      <td>NaN</td>\n",
       "      <td>NaN</td>\n",
       "      <td>https://twitter.com/dog_rates/status/801115127...</td>\n",
       "      <td>12</td>\n",
       "      <td>10</td>\n",
       "      <td>Bones</td>\n",
       "      <td>pupper</td>\n",
       "      <td>pupper</td>\n",
       "    </tr>\n",
       "    <tr>\n",
       "      <th>5417</th>\n",
       "      <td>785639753186217984</td>\n",
       "      <td>NaN</td>\n",
       "      <td>NaN</td>\n",
       "      <td>2016-10-11 00:34:48 +0000</td>\n",
       "      <td>&lt;a href=\"http://twitter.com/download/iphone\" r...</td>\n",
       "      <td>This is Pinot. He's a sophisticated doggo. You...</td>\n",
       "      <td>NaN</td>\n",
       "      <td>NaN</td>\n",
       "      <td>NaN</td>\n",
       "      <td>https://twitter.com/dog_rates/status/785639753...</td>\n",
       "      <td>10</td>\n",
       "      <td>10</td>\n",
       "      <td>Pinot</td>\n",
       "      <td>pupper</td>\n",
       "      <td>pupper</td>\n",
       "    </tr>\n",
       "    <tr>\n",
       "      <th>5445</th>\n",
       "      <td>781308096455073793</td>\n",
       "      <td>NaN</td>\n",
       "      <td>NaN</td>\n",
       "      <td>2016-09-29 01:42:20 +0000</td>\n",
       "      <td>&lt;a href=\"http://vine.co\" rel=\"nofollow\"&gt;Vine -...</td>\n",
       "      <td>Pupper butt 1, Doggo 0. Both 12/10 https://t.c...</td>\n",
       "      <td>NaN</td>\n",
       "      <td>NaN</td>\n",
       "      <td>NaN</td>\n",
       "      <td>https://vine.co/v/5rgu2Law2ut</td>\n",
       "      <td>12</td>\n",
       "      <td>10</td>\n",
       "      <td>None</td>\n",
       "      <td>pupper</td>\n",
       "      <td>pupper</td>\n",
       "    </tr>\n",
       "    <tr>\n",
       "      <th>5490</th>\n",
       "      <td>775898661951791106</td>\n",
       "      <td>NaN</td>\n",
       "      <td>NaN</td>\n",
       "      <td>2016-09-14 03:27:11 +0000</td>\n",
       "      <td>&lt;a href=\"http://twitter.com/download/iphone\" r...</td>\n",
       "      <td>RT @dog_rates: Like father (doggo), like son (...</td>\n",
       "      <td>7.331095e+17</td>\n",
       "      <td>4.196984e+09</td>\n",
       "      <td>2016-05-19 01:38:16 +0000</td>\n",
       "      <td>https://twitter.com/dog_rates/status/733109485...</td>\n",
       "      <td>12</td>\n",
       "      <td>10</td>\n",
       "      <td>None</td>\n",
       "      <td>pupper</td>\n",
       "      <td>pupper</td>\n",
       "    </tr>\n",
       "    <tr>\n",
       "      <th>5534</th>\n",
       "      <td>770093767776997377</td>\n",
       "      <td>NaN</td>\n",
       "      <td>NaN</td>\n",
       "      <td>2016-08-29 03:00:36 +0000</td>\n",
       "      <td>&lt;a href=\"http://twitter.com/download/iphone\" r...</td>\n",
       "      <td>RT @dog_rates: This is just downright precious...</td>\n",
       "      <td>7.410673e+17</td>\n",
       "      <td>4.196984e+09</td>\n",
       "      <td>2016-06-10 00:39:48 +0000</td>\n",
       "      <td>https://twitter.com/dog_rates/status/741067306...</td>\n",
       "      <td>12</td>\n",
       "      <td>10</td>\n",
       "      <td>just</td>\n",
       "      <td>pupper</td>\n",
       "      <td>pupper</td>\n",
       "    </tr>\n",
       "    <tr>\n",
       "      <th>5601</th>\n",
       "      <td>759793422261743616</td>\n",
       "      <td>NaN</td>\n",
       "      <td>NaN</td>\n",
       "      <td>2016-07-31 16:50:42 +0000</td>\n",
       "      <td>&lt;a href=\"http://twitter.com/download/iphone\" r...</td>\n",
       "      <td>Meet Maggie &amp;amp; Lila. Maggie is the doggo, L...</td>\n",
       "      <td>NaN</td>\n",
       "      <td>NaN</td>\n",
       "      <td>NaN</td>\n",
       "      <td>https://twitter.com/dog_rates/status/759793422...</td>\n",
       "      <td>12</td>\n",
       "      <td>10</td>\n",
       "      <td>Maggie</td>\n",
       "      <td>pupper</td>\n",
       "      <td>pupper</td>\n",
       "    </tr>\n",
       "    <tr>\n",
       "      <th>5668</th>\n",
       "      <td>751583847268179968</td>\n",
       "      <td>NaN</td>\n",
       "      <td>NaN</td>\n",
       "      <td>2016-07-09 01:08:47 +0000</td>\n",
       "      <td>&lt;a href=\"http://twitter.com/download/iphone\" r...</td>\n",
       "      <td>Please stop sending it pictures that don't eve...</td>\n",
       "      <td>NaN</td>\n",
       "      <td>NaN</td>\n",
       "      <td>NaN</td>\n",
       "      <td>https://twitter.com/dog_rates/status/751583847...</td>\n",
       "      <td>5</td>\n",
       "      <td>10</td>\n",
       "      <td>None</td>\n",
       "      <td>pupper</td>\n",
       "      <td>pupper</td>\n",
       "    </tr>\n",
       "    <tr>\n",
       "      <th>5775</th>\n",
       "      <td>741067306818797568</td>\n",
       "      <td>NaN</td>\n",
       "      <td>NaN</td>\n",
       "      <td>2016-06-10 00:39:48 +0000</td>\n",
       "      <td>&lt;a href=\"http://twitter.com/download/iphone\" r...</td>\n",
       "      <td>This is just downright precious af. 12/10 for ...</td>\n",
       "      <td>NaN</td>\n",
       "      <td>NaN</td>\n",
       "      <td>NaN</td>\n",
       "      <td>https://twitter.com/dog_rates/status/741067306...</td>\n",
       "      <td>12</td>\n",
       "      <td>10</td>\n",
       "      <td>just</td>\n",
       "      <td>pupper</td>\n",
       "      <td>pupper</td>\n",
       "    </tr>\n",
       "    <tr>\n",
       "      <th>5825</th>\n",
       "      <td>733109485275860992</td>\n",
       "      <td>NaN</td>\n",
       "      <td>NaN</td>\n",
       "      <td>2016-05-19 01:38:16 +0000</td>\n",
       "      <td>&lt;a href=\"http://twitter.com/download/iphone\" r...</td>\n",
       "      <td>Like father (doggo), like son (pupper). Both 1...</td>\n",
       "      <td>NaN</td>\n",
       "      <td>NaN</td>\n",
       "      <td>NaN</td>\n",
       "      <td>https://twitter.com/dog_rates/status/733109485...</td>\n",
       "      <td>12</td>\n",
       "      <td>10</td>\n",
       "      <td>None</td>\n",
       "      <td>pupper</td>\n",
       "      <td>pupper</td>\n",
       "    </tr>\n",
       "    <tr>\n",
       "      <th>7259</th>\n",
       "      <td>855851453814013952</td>\n",
       "      <td>NaN</td>\n",
       "      <td>NaN</td>\n",
       "      <td>2017-04-22 18:31:02 +0000</td>\n",
       "      <td>&lt;a href=\"http://twitter.com/download/iphone\" r...</td>\n",
       "      <td>Here's a puppo participating in the #ScienceMa...</td>\n",
       "      <td>NaN</td>\n",
       "      <td>NaN</td>\n",
       "      <td>NaN</td>\n",
       "      <td>https://twitter.com/dog_rates/status/855851453...</td>\n",
       "      <td>13</td>\n",
       "      <td>10</td>\n",
       "      <td>None</td>\n",
       "      <td>puppo</td>\n",
       "      <td>puppo</td>\n",
       "    </tr>\n",
       "  </tbody>\n",
       "</table>\n",
       "</div>"
      ],
      "text/plain": [
       "                tweet_id  in_reply_to_status_id  in_reply_to_user_id  \\\n",
       "2556  854010172552949760                    NaN                  NaN   \n",
       "5172  817777686764523521                    NaN                  NaN   \n",
       "5243  808106460588765185                    NaN                  NaN   \n",
       "5277  802265048156610565           7.331095e+17         4.196984e+09   \n",
       "5287  801115127852503040                    NaN                  NaN   \n",
       "5417  785639753186217984                    NaN                  NaN   \n",
       "5445  781308096455073793                    NaN                  NaN   \n",
       "5490  775898661951791106                    NaN                  NaN   \n",
       "5534  770093767776997377                    NaN                  NaN   \n",
       "5601  759793422261743616                    NaN                  NaN   \n",
       "5668  751583847268179968                    NaN                  NaN   \n",
       "5775  741067306818797568                    NaN                  NaN   \n",
       "5825  733109485275860992                    NaN                  NaN   \n",
       "7259  855851453814013952                    NaN                  NaN   \n",
       "\n",
       "                      timestamp  \\\n",
       "2556  2017-04-17 16:34:26 +0000   \n",
       "5172  2017-01-07 16:59:28 +0000   \n",
       "5243  2016-12-12 00:29:28 +0000   \n",
       "5277  2016-11-25 21:37:47 +0000   \n",
       "5287  2016-11-22 17:28:25 +0000   \n",
       "5417  2016-10-11 00:34:48 +0000   \n",
       "5445  2016-09-29 01:42:20 +0000   \n",
       "5490  2016-09-14 03:27:11 +0000   \n",
       "5534  2016-08-29 03:00:36 +0000   \n",
       "5601  2016-07-31 16:50:42 +0000   \n",
       "5668  2016-07-09 01:08:47 +0000   \n",
       "5775  2016-06-10 00:39:48 +0000   \n",
       "5825  2016-05-19 01:38:16 +0000   \n",
       "7259  2017-04-22 18:31:02 +0000   \n",
       "\n",
       "                                                 source  \\\n",
       "2556  <a href=\"http://twitter.com/download/iphone\" r...   \n",
       "5172  <a href=\"http://twitter.com/download/iphone\" r...   \n",
       "5243  <a href=\"http://twitter.com/download/iphone\" r...   \n",
       "5277  <a href=\"http://twitter.com/download/iphone\" r...   \n",
       "5287  <a href=\"http://twitter.com/download/iphone\" r...   \n",
       "5417  <a href=\"http://twitter.com/download/iphone\" r...   \n",
       "5445  <a href=\"http://vine.co\" rel=\"nofollow\">Vine -...   \n",
       "5490  <a href=\"http://twitter.com/download/iphone\" r...   \n",
       "5534  <a href=\"http://twitter.com/download/iphone\" r...   \n",
       "5601  <a href=\"http://twitter.com/download/iphone\" r...   \n",
       "5668  <a href=\"http://twitter.com/download/iphone\" r...   \n",
       "5775  <a href=\"http://twitter.com/download/iphone\" r...   \n",
       "5825  <a href=\"http://twitter.com/download/iphone\" r...   \n",
       "7259  <a href=\"http://twitter.com/download/iphone\" r...   \n",
       "\n",
       "                                                   text  retweeted_status_id  \\\n",
       "2556  At first I thought this was a shy doggo, but i...                  NaN   \n",
       "5172  This is Dido. She's playing the lead role in \"...                  NaN   \n",
       "5243  Here we have Burke (pupper) and Dexter (doggo)...                  NaN   \n",
       "5277  Like doggo, like pupper version 2. Both 11/10 ...                  NaN   \n",
       "5287  This is Bones. He's being haunted by another d...                  NaN   \n",
       "5417  This is Pinot. He's a sophisticated doggo. You...                  NaN   \n",
       "5445  Pupper butt 1, Doggo 0. Both 12/10 https://t.c...                  NaN   \n",
       "5490  RT @dog_rates: Like father (doggo), like son (...         7.331095e+17   \n",
       "5534  RT @dog_rates: This is just downright precious...         7.410673e+17   \n",
       "5601  Meet Maggie &amp; Lila. Maggie is the doggo, L...                  NaN   \n",
       "5668  Please stop sending it pictures that don't eve...                  NaN   \n",
       "5775  This is just downright precious af. 12/10 for ...                  NaN   \n",
       "5825  Like father (doggo), like son (pupper). Both 1...                  NaN   \n",
       "7259  Here's a puppo participating in the #ScienceMa...                  NaN   \n",
       "\n",
       "      retweeted_status_user_id retweeted_status_timestamp  \\\n",
       "2556                       NaN                        NaN   \n",
       "5172                       NaN                        NaN   \n",
       "5243                       NaN                        NaN   \n",
       "5277                       NaN                        NaN   \n",
       "5287                       NaN                        NaN   \n",
       "5417                       NaN                        NaN   \n",
       "5445                       NaN                        NaN   \n",
       "5490              4.196984e+09  2016-05-19 01:38:16 +0000   \n",
       "5534              4.196984e+09  2016-06-10 00:39:48 +0000   \n",
       "5601                       NaN                        NaN   \n",
       "5668                       NaN                        NaN   \n",
       "5775                       NaN                        NaN   \n",
       "5825                       NaN                        NaN   \n",
       "7259                       NaN                        NaN   \n",
       "\n",
       "                                          expanded_urls  rating_numerator  \\\n",
       "2556  https://twitter.com/dog_rates/status/854010172...                11   \n",
       "5172  https://twitter.com/dog_rates/status/817777686...                13   \n",
       "5243  https://twitter.com/dog_rates/status/808106460...                12   \n",
       "5277  https://twitter.com/dog_rates/status/802265048...                11   \n",
       "5287  https://twitter.com/dog_rates/status/801115127...                12   \n",
       "5417  https://twitter.com/dog_rates/status/785639753...                10   \n",
       "5445                      https://vine.co/v/5rgu2Law2ut                12   \n",
       "5490  https://twitter.com/dog_rates/status/733109485...                12   \n",
       "5534  https://twitter.com/dog_rates/status/741067306...                12   \n",
       "5601  https://twitter.com/dog_rates/status/759793422...                12   \n",
       "5668  https://twitter.com/dog_rates/status/751583847...                 5   \n",
       "5775  https://twitter.com/dog_rates/status/741067306...                12   \n",
       "5825  https://twitter.com/dog_rates/status/733109485...                12   \n",
       "7259  https://twitter.com/dog_rates/status/855851453...                13   \n",
       "\n",
       "      rating_denominator    name variable social_status  \n",
       "2556                  10    None  floofer       floofer  \n",
       "5172                  10    Dido   pupper        pupper  \n",
       "5243                  10    None   pupper        pupper  \n",
       "5277                  10    None   pupper        pupper  \n",
       "5287                  10   Bones   pupper        pupper  \n",
       "5417                  10   Pinot   pupper        pupper  \n",
       "5445                  10    None   pupper        pupper  \n",
       "5490                  10    None   pupper        pupper  \n",
       "5534                  10    just   pupper        pupper  \n",
       "5601                  10  Maggie   pupper        pupper  \n",
       "5668                  10    None   pupper        pupper  \n",
       "5775                  10    just   pupper        pupper  \n",
       "5825                  10    None   pupper        pupper  \n",
       "7259                  10    None    puppo         puppo  "
      ]
     },
     "execution_count": 59,
     "metadata": {},
     "output_type": "execute_result"
    }
   ],
   "source": [
    "twitter_archive_copy[twitter_archive_copy.duplicated(['tweet_id'])] #存在重复数据"
   ]
  },
  {
   "cell_type": "code",
   "execution_count": 60,
   "metadata": {
    "collapsed": true
   },
   "outputs": [],
   "source": [
    "twitter_archive_copy['social_status'] = twitter_archive_copy['social_status']+' '#设置空格分隔符\n",
    "twitter_archive_copy = twitter_archive_copy.groupby('tweet_id')['social_status'].sum().reset_index() #利用groupby进行合并"
   ]
  },
  {
   "cell_type": "code",
   "execution_count": 61,
   "metadata": {},
   "outputs": [
    {
     "data": {
      "text/plain": [
       "pupper            245\n",
       "doggo              83\n",
       "puppo              29\n",
       "doggo pupper       12\n",
       "floofer             9\n",
       "doggo puppo         1\n",
       "doggo floofer       1\n",
       "Name: social_status, dtype: int64"
      ]
     },
     "execution_count": 61,
     "metadata": {},
     "output_type": "execute_result"
    }
   ],
   "source": [
    "twitter_archive_copy.social_status.value_counts()#查看合并情况"
   ]
  },
  {
   "cell_type": "code",
   "execution_count": 62,
   "metadata": {},
   "outputs": [
    {
     "data": {
      "text/html": [
       "<div>\n",
       "<style scoped>\n",
       "    .dataframe tbody tr th:only-of-type {\n",
       "        vertical-align: middle;\n",
       "    }\n",
       "\n",
       "    .dataframe tbody tr th {\n",
       "        vertical-align: top;\n",
       "    }\n",
       "\n",
       "    .dataframe thead th {\n",
       "        text-align: right;\n",
       "    }\n",
       "</style>\n",
       "<table border=\"1\" class=\"dataframe\">\n",
       "  <thead>\n",
       "    <tr style=\"text-align: right;\">\n",
       "      <th></th>\n",
       "      <th>tweet_id</th>\n",
       "      <th>social_status</th>\n",
       "    </tr>\n",
       "  </thead>\n",
       "  <tbody>\n",
       "  </tbody>\n",
       "</table>\n",
       "</div>"
      ],
      "text/plain": [
       "Empty DataFrame\n",
       "Columns: [tweet_id, social_status]\n",
       "Index: []"
      ]
     },
     "execution_count": 62,
     "metadata": {},
     "output_type": "execute_result"
    }
   ],
   "source": [
    "twitter_archive_copy[twitter_archive_copy.duplicated(['tweet_id'])]#测试，已经合并完成"
   ]
  },
  {
   "cell_type": "markdown",
   "metadata": {},
   "source": [
    "**第六步：将none表与 twitter_archive_copy表进行合并**"
   ]
  },
  {
   "cell_type": "code",
   "execution_count": 63,
   "metadata": {
    "collapsed": true
   },
   "outputs": [],
   "source": [
    "twitter_archive_copy = pd.merge(twitter_archive_copy,none,on='tweet_id',how='outer')"
   ]
  },
  {
   "cell_type": "code",
   "execution_count": 64,
   "metadata": {},
   "outputs": [
    {
     "name": "stdout",
     "output_type": "stream",
     "text": [
      "<class 'pandas.core.frame.DataFrame'>\n",
      "Int64Index: 2356 entries, 0 to 2355\n",
      "Data columns (total 16 columns):\n",
      "tweet_id                      2356 non-null int64\n",
      "social_status_x               380 non-null object\n",
      "in_reply_to_status_id         78 non-null float64\n",
      "in_reply_to_user_id           78 non-null float64\n",
      "timestamp                     2356 non-null object\n",
      "source                        2356 non-null object\n",
      "text                          2356 non-null object\n",
      "retweeted_status_id           181 non-null float64\n",
      "retweeted_status_user_id      181 non-null float64\n",
      "retweeted_status_timestamp    181 non-null object\n",
      "expanded_urls                 2297 non-null object\n",
      "rating_numerator              2356 non-null int64\n",
      "rating_denominator            2356 non-null int64\n",
      "name                          2356 non-null object\n",
      "variable                      2356 non-null object\n",
      "social_status_y               2356 non-null object\n",
      "dtypes: float64(4), int64(3), object(9)\n",
      "memory usage: 312.9+ KB\n"
     ]
    }
   ],
   "source": [
    "twitter_archive_copy.info()"
   ]
  },
  {
   "cell_type": "markdown",
   "metadata": {},
   "source": [
    "** 第七步：将无关列（variable，social_status_y）删除，并将social_status_x列名修改为social_status**"
   ]
  },
  {
   "cell_type": "code",
   "execution_count": 65,
   "metadata": {
    "collapsed": true
   },
   "outputs": [],
   "source": [
    "twitter_archive_copy.drop(['variable','social_status_y'],axis=1,inplace = True)\n",
    "twitter_archive_copy.rename(columns={'social_status_x':'social_status'},inplace= True)"
   ]
  },
  {
   "cell_type": "markdown",
   "metadata": {},
   "source": [
    "#### 测试"
   ]
  },
  {
   "cell_type": "code",
   "execution_count": 66,
   "metadata": {},
   "outputs": [
    {
     "name": "stdout",
     "output_type": "stream",
     "text": [
      "<class 'pandas.core.frame.DataFrame'>\n",
      "Int64Index: 2356 entries, 0 to 2355\n",
      "Data columns (total 14 columns):\n",
      "tweet_id                      2356 non-null int64\n",
      "social_status                 380 non-null object\n",
      "in_reply_to_status_id         78 non-null float64\n",
      "in_reply_to_user_id           78 non-null float64\n",
      "timestamp                     2356 non-null object\n",
      "source                        2356 non-null object\n",
      "text                          2356 non-null object\n",
      "retweeted_status_id           181 non-null float64\n",
      "retweeted_status_user_id      181 non-null float64\n",
      "retweeted_status_timestamp    181 non-null object\n",
      "expanded_urls                 2297 non-null object\n",
      "rating_numerator              2356 non-null int64\n",
      "rating_denominator            2356 non-null int64\n",
      "name                          2356 non-null object\n",
      "dtypes: float64(4), int64(3), object(7)\n",
      "memory usage: 276.1+ KB\n"
     ]
    }
   ],
   "source": [
    "twitter_archive_copy.info()"
   ]
  },
  {
   "cell_type": "markdown",
   "metadata": {},
   "source": [
    "#### 定义\n",
    "* tweet_extra的转发数和喜欢数表格合并到twitter_archive_enhanced中\n",
    "* 使用merge函数进行合并\n",
    "#### 代码"
   ]
  },
  {
   "cell_type": "code",
   "execution_count": 10,
   "metadata": {},
   "outputs": [
    {
     "name": "stdout",
     "output_type": "stream",
     "text": [
      "<class 'pandas.core.frame.DataFrame'>\n",
      "RangeIndex: 2356 entries, 0 to 2355\n",
      "Data columns (total 18 columns):\n",
      "tweet_id                      2356 non-null int64\n",
      "in_reply_to_status_id         78 non-null float64\n",
      "in_reply_to_user_id           78 non-null float64\n",
      "timestamp                     2356 non-null object\n",
      "source                        2356 non-null object\n",
      "text                          2356 non-null object\n",
      "retweeted_status_id           181 non-null float64\n",
      "retweeted_status_user_id      181 non-null float64\n",
      "retweeted_status_timestamp    181 non-null object\n",
      "expanded_urls                 2297 non-null object\n",
      "rating_numerator              2356 non-null int64\n",
      "rating_denominator            2356 non-null int64\n",
      "name                          2356 non-null object\n",
      "doggo                         2356 non-null object\n",
      "floofer                       2356 non-null object\n",
      "pupper                        2356 non-null object\n",
      "puppo                         2356 non-null object\n",
      "stage                         401 non-null object\n",
      "dtypes: float64(4), int64(3), object(11)\n",
      "memory usage: 331.4+ KB\n"
     ]
    }
   ],
   "source": [
    "twitter_archive_copy.info()"
   ]
  },
  {
   "cell_type": "code",
   "execution_count": 11,
   "metadata": {},
   "outputs": [
    {
     "name": "stdout",
     "output_type": "stream",
     "text": [
      "<class 'pandas.core.frame.DataFrame'>\n",
      "RangeIndex: 2352 entries, 0 to 2351\n",
      "Data columns (total 3 columns):\n",
      "favorite_count    2352 non-null int64\n",
      "retweet_count     2352 non-null int64\n",
      "tweet_ID          2352 non-null object\n",
      "dtypes: int64(2), object(1)\n",
      "memory usage: 55.2+ KB\n"
     ]
    }
   ],
   "source": [
    "tweet_extra_copy.info()"
   ]
  },
  {
   "cell_type": "code",
   "execution_count": 12,
   "metadata": {},
   "outputs": [],
   "source": [
    "tweet_extra_copy.rename(columns={'tweet_ID':'tweet_id'},inplace= True) #将tweet_ID转换为tweet_id"
   ]
  },
  {
   "cell_type": "code",
   "execution_count": 69,
   "metadata": {
    "collapsed": true
   },
   "outputs": [],
   "source": [
    "twitter_archive_copy.tweet_id = twitter_archive_copy.tweet_id.astype(str)#将tweet_id的数据格式有int转为string"
   ]
  },
  {
   "cell_type": "markdown",
   "metadata": {},
   "source": [
    "* 使用astype(str)而不使用astype(object)的原因：这是因为 pandas 中的 object 类型同样表示多类型的列，比如某一列 Series 中既有数字又有字符串，这一列的类型就会是 object。使用astype(str)更好—审阅者"
   ]
  },
  {
   "cell_type": "code",
   "execution_count": 70,
   "metadata": {
    "collapsed": true
   },
   "outputs": [],
   "source": [
    "twitter_archive_copy = pd.merge(twitter_archive_copy,tweet_extra_copy,on='tweet_id',how='left')"
   ]
  },
  {
   "cell_type": "markdown",
   "metadata": {},
   "source": [
    "#### 测试"
   ]
  },
  {
   "cell_type": "code",
   "execution_count": 71,
   "metadata": {},
   "outputs": [
    {
     "name": "stdout",
     "output_type": "stream",
     "text": [
      "<class 'pandas.core.frame.DataFrame'>\n",
      "Int64Index: 2356 entries, 0 to 2355\n",
      "Data columns (total 16 columns):\n",
      "tweet_id                      2356 non-null object\n",
      "social_status                 380 non-null object\n",
      "in_reply_to_status_id         78 non-null float64\n",
      "in_reply_to_user_id           78 non-null float64\n",
      "timestamp                     2356 non-null object\n",
      "source                        2356 non-null object\n",
      "text                          2356 non-null object\n",
      "retweeted_status_id           181 non-null float64\n",
      "retweeted_status_user_id      181 non-null float64\n",
      "retweeted_status_timestamp    181 non-null object\n",
      "expanded_urls                 2297 non-null object\n",
      "rating_numerator              2356 non-null int64\n",
      "rating_denominator            2356 non-null int64\n",
      "name                          2356 non-null object\n",
      "favorite_count                2352 non-null float64\n",
      "retweet_count                 2352 non-null float64\n",
      "dtypes: float64(6), int64(2), object(8)\n",
      "memory usage: 312.9+ KB\n"
     ]
    }
   ],
   "source": [
    "twitter_archive_copy.info()"
   ]
  },
  {
   "cell_type": "code",
   "execution_count": 72,
   "metadata": {},
   "outputs": [
    {
     "data": {
      "text/html": [
       "<div>\n",
       "<style scoped>\n",
       "    .dataframe tbody tr th:only-of-type {\n",
       "        vertical-align: middle;\n",
       "    }\n",
       "\n",
       "    .dataframe tbody tr th {\n",
       "        vertical-align: top;\n",
       "    }\n",
       "\n",
       "    .dataframe thead th {\n",
       "        text-align: right;\n",
       "    }\n",
       "</style>\n",
       "<table border=\"1\" class=\"dataframe\">\n",
       "  <thead>\n",
       "    <tr style=\"text-align: right;\">\n",
       "      <th></th>\n",
       "      <th>tweet_id</th>\n",
       "      <th>social_status</th>\n",
       "      <th>in_reply_to_status_id</th>\n",
       "      <th>in_reply_to_user_id</th>\n",
       "      <th>timestamp</th>\n",
       "      <th>source</th>\n",
       "      <th>text</th>\n",
       "      <th>retweeted_status_id</th>\n",
       "      <th>retweeted_status_user_id</th>\n",
       "      <th>retweeted_status_timestamp</th>\n",
       "      <th>expanded_urls</th>\n",
       "      <th>rating_numerator</th>\n",
       "      <th>rating_denominator</th>\n",
       "      <th>name</th>\n",
       "      <th>favorite_count</th>\n",
       "      <th>retweet_count</th>\n",
       "    </tr>\n",
       "  </thead>\n",
       "  <tbody>\n",
       "    <tr>\n",
       "      <th>0</th>\n",
       "      <td>672160042234327040</td>\n",
       "      <td>pupper</td>\n",
       "      <td>NaN</td>\n",
       "      <td>NaN</td>\n",
       "      <td>2015-12-02 21:06:56 +0000</td>\n",
       "      <td>&lt;a href=\"http://twitter.com/download/iphone\" r...</td>\n",
       "      <td>This is Bubba. He's a Titted Peebles Aorta. Ev...</td>\n",
       "      <td>NaN</td>\n",
       "      <td>NaN</td>\n",
       "      <td>NaN</td>\n",
       "      <td>https://twitter.com/dog_rates/status/672160042...</td>\n",
       "      <td>8</td>\n",
       "      <td>10</td>\n",
       "      <td>Bubba</td>\n",
       "      <td>917.0</td>\n",
       "      <td>392.0</td>\n",
       "    </tr>\n",
       "    <tr>\n",
       "      <th>1</th>\n",
       "      <td>672205392827572224</td>\n",
       "      <td>pupper</td>\n",
       "      <td>NaN</td>\n",
       "      <td>NaN</td>\n",
       "      <td>2015-12-03 00:07:09 +0000</td>\n",
       "      <td>&lt;a href=\"http://twitter.com/download/iphone\" r...</td>\n",
       "      <td>This is Opal. He's a Royal John Coctostan. Rea...</td>\n",
       "      <td>NaN</td>\n",
       "      <td>NaN</td>\n",
       "      <td>NaN</td>\n",
       "      <td>https://twitter.com/dog_rates/status/672205392...</td>\n",
       "      <td>9</td>\n",
       "      <td>10</td>\n",
       "      <td>Opal</td>\n",
       "      <td>2399.0</td>\n",
       "      <td>1261.0</td>\n",
       "    </tr>\n",
       "    <tr>\n",
       "      <th>2</th>\n",
       "      <td>672254177670729728</td>\n",
       "      <td>pupper</td>\n",
       "      <td>NaN</td>\n",
       "      <td>NaN</td>\n",
       "      <td>2015-12-03 03:21:00 +0000</td>\n",
       "      <td>&lt;a href=\"http://twitter.com/download/iphone\" r...</td>\n",
       "      <td>This is Rolf. He's having the time of his life...</td>\n",
       "      <td>NaN</td>\n",
       "      <td>NaN</td>\n",
       "      <td>NaN</td>\n",
       "      <td>https://twitter.com/dog_rates/status/672254177...</td>\n",
       "      <td>11</td>\n",
       "      <td>10</td>\n",
       "      <td>Rolf</td>\n",
       "      <td>1501.0</td>\n",
       "      <td>796.0</td>\n",
       "    </tr>\n",
       "    <tr>\n",
       "      <th>3</th>\n",
       "      <td>672481316919734272</td>\n",
       "      <td>pupper</td>\n",
       "      <td>NaN</td>\n",
       "      <td>NaN</td>\n",
       "      <td>2015-12-03 18:23:34 +0000</td>\n",
       "      <td>&lt;a href=\"http://twitter.com/download/iphone\" r...</td>\n",
       "      <td>Say hello to Jazz. She should be on the cover ...</td>\n",
       "      <td>NaN</td>\n",
       "      <td>NaN</td>\n",
       "      <td>NaN</td>\n",
       "      <td>https://twitter.com/dog_rates/status/672481316...</td>\n",
       "      <td>12</td>\n",
       "      <td>10</td>\n",
       "      <td>Jazz</td>\n",
       "      <td>752.0</td>\n",
       "      <td>136.0</td>\n",
       "    </tr>\n",
       "    <tr>\n",
       "      <th>4</th>\n",
       "      <td>672594978741354496</td>\n",
       "      <td>pupper</td>\n",
       "      <td>NaN</td>\n",
       "      <td>NaN</td>\n",
       "      <td>2015-12-04 01:55:13 +0000</td>\n",
       "      <td>&lt;a href=\"http://twitter.com/download/iphone\" r...</td>\n",
       "      <td>Meet Scott. Just trying to catch his train to ...</td>\n",
       "      <td>NaN</td>\n",
       "      <td>NaN</td>\n",
       "      <td>NaN</td>\n",
       "      <td>https://twitter.com/dog_rates/status/672594978...</td>\n",
       "      <td>9</td>\n",
       "      <td>10</td>\n",
       "      <td>Scott</td>\n",
       "      <td>1406.0</td>\n",
       "      <td>656.0</td>\n",
       "    </tr>\n",
       "  </tbody>\n",
       "</table>\n",
       "</div>"
      ],
      "text/plain": [
       "             tweet_id social_status  in_reply_to_status_id  \\\n",
       "0  672160042234327040       pupper                     NaN   \n",
       "1  672205392827572224       pupper                     NaN   \n",
       "2  672254177670729728       pupper                     NaN   \n",
       "3  672481316919734272       pupper                     NaN   \n",
       "4  672594978741354496       pupper                     NaN   \n",
       "\n",
       "   in_reply_to_user_id                  timestamp  \\\n",
       "0                  NaN  2015-12-02 21:06:56 +0000   \n",
       "1                  NaN  2015-12-03 00:07:09 +0000   \n",
       "2                  NaN  2015-12-03 03:21:00 +0000   \n",
       "3                  NaN  2015-12-03 18:23:34 +0000   \n",
       "4                  NaN  2015-12-04 01:55:13 +0000   \n",
       "\n",
       "                                              source  \\\n",
       "0  <a href=\"http://twitter.com/download/iphone\" r...   \n",
       "1  <a href=\"http://twitter.com/download/iphone\" r...   \n",
       "2  <a href=\"http://twitter.com/download/iphone\" r...   \n",
       "3  <a href=\"http://twitter.com/download/iphone\" r...   \n",
       "4  <a href=\"http://twitter.com/download/iphone\" r...   \n",
       "\n",
       "                                                text  retweeted_status_id  \\\n",
       "0  This is Bubba. He's a Titted Peebles Aorta. Ev...                  NaN   \n",
       "1  This is Opal. He's a Royal John Coctostan. Rea...                  NaN   \n",
       "2  This is Rolf. He's having the time of his life...                  NaN   \n",
       "3  Say hello to Jazz. She should be on the cover ...                  NaN   \n",
       "4  Meet Scott. Just trying to catch his train to ...                  NaN   \n",
       "\n",
       "   retweeted_status_user_id retweeted_status_timestamp  \\\n",
       "0                       NaN                        NaN   \n",
       "1                       NaN                        NaN   \n",
       "2                       NaN                        NaN   \n",
       "3                       NaN                        NaN   \n",
       "4                       NaN                        NaN   \n",
       "\n",
       "                                       expanded_urls  rating_numerator  \\\n",
       "0  https://twitter.com/dog_rates/status/672160042...                 8   \n",
       "1  https://twitter.com/dog_rates/status/672205392...                 9   \n",
       "2  https://twitter.com/dog_rates/status/672254177...                11   \n",
       "3  https://twitter.com/dog_rates/status/672481316...                12   \n",
       "4  https://twitter.com/dog_rates/status/672594978...                 9   \n",
       "\n",
       "   rating_denominator   name  favorite_count  retweet_count  \n",
       "0                  10  Bubba           917.0          392.0  \n",
       "1                  10   Opal          2399.0         1261.0  \n",
       "2                  10   Rolf          1501.0          796.0  \n",
       "3                  10   Jazz           752.0          136.0  \n",
       "4                  10  Scott          1406.0          656.0  "
      ]
     },
     "execution_count": 72,
     "metadata": {},
     "output_type": "execute_result"
    }
   ],
   "source": [
    "twitter_archive_copy.head(5)"
   ]
  },
  {
   "cell_type": "markdown",
   "metadata": {},
   "source": [
    "* 发现一个合并后出现的质量问题：favorite_count与retweet_count数据类型变成了float类型，需要将其转换为int类型"
   ]
  },
  {
   "cell_type": "markdown",
   "metadata": {},
   "source": [
    "### 质量问题\n",
    "#### 定义\n",
    "* 1.存在转发评级，其中retweeted_status_id 不为空的的数据为转发评级，需要删除；使用isnull（）方法将此列非空的数据提取出来\n",
    "\n",
    "#### 代码"
   ]
  },
  {
   "cell_type": "code",
   "execution_count": 73,
   "metadata": {
    "collapsed": true
   },
   "outputs": [],
   "source": [
    "twitter_archive_copy = twitter_archive_copy[twitter_archive_copy.retweeted_status_id.isnull()]"
   ]
  },
  {
   "cell_type": "markdown",
   "metadata": {},
   "source": [
    "#### 测试"
   ]
  },
  {
   "cell_type": "code",
   "execution_count": 74,
   "metadata": {},
   "outputs": [
    {
     "name": "stdout",
     "output_type": "stream",
     "text": [
      "<class 'pandas.core.frame.DataFrame'>\n",
      "Int64Index: 2175 entries, 0 to 2355\n",
      "Data columns (total 16 columns):\n",
      "tweet_id                      2175 non-null object\n",
      "social_status                 344 non-null object\n",
      "in_reply_to_status_id         78 non-null float64\n",
      "in_reply_to_user_id           78 non-null float64\n",
      "timestamp                     2175 non-null object\n",
      "source                        2175 non-null object\n",
      "text                          2175 non-null object\n",
      "retweeted_status_id           0 non-null float64\n",
      "retweeted_status_user_id      0 non-null float64\n",
      "retweeted_status_timestamp    0 non-null object\n",
      "expanded_urls                 2117 non-null object\n",
      "rating_numerator              2175 non-null int64\n",
      "rating_denominator            2175 non-null int64\n",
      "name                          2175 non-null object\n",
      "favorite_count                2175 non-null float64\n",
      "retweet_count                 2175 non-null float64\n",
      "dtypes: float64(6), int64(2), object(8)\n",
      "memory usage: 288.9+ KB\n"
     ]
    }
   ],
   "source": [
    "twitter_archive_copy.info()"
   ]
  },
  {
   "cell_type": "markdown",
   "metadata": {},
   "source": [
    "#### 定义\n",
    "* 3.tweet_id,in_reply_to_status_id,in_reply_to_user_id,retweeted_status_id,retweeted_status_user_id 不应该是int64类型，而应该是object类型; timestamp应该是日期类型\n",
    "* 9.tweet_extra_copy 中的favorite_count与retweet_count合并至twitter_archive_enhanced后数据类型变为了float类型，应该转换为int类型\n",
    "* 转换为object，使用astype(object);转换为日期类型，使用pd.to_datetime;转换为int,使用astype(np.int64)\n",
    "* 此处如果使用astype(str)转换object，会将其中得nan数据转为str类型数据，就不是空值了，所以使用astype(object)\n",
    "\n",
    "#### 代码"
   ]
  },
  {
   "cell_type": "code",
   "execution_count": 93,
   "metadata": {
    "collapsed": true
   },
   "outputs": [],
   "source": [
    "twitter_archive_copy.in_reply_to_status_id  = twitter_archive_copy.in_reply_to_status_id.astype(object)\n",
    "twitter_archive_copy.in_reply_to_user_id = twitter_archive_copy.in_reply_to_user_id.astype(object)\n",
    "twitter_archive_copy.retweeted_status_id = twitter_archive_copy.retweeted_status_id.astype(object)\n",
    "twitter_archive_copy.retweeted_status_user_id = twitter_archive_copy.retweeted_status_user_id.astype(object)\n",
    "twitter_archive_copy.timestamp = pd.to_datetime(twitter_archive_copy['timestamp'],format=\"%Y-%m-%dT%H:%M:%S\")\n",
    "twitter_archive_copy.favorite_count = twitter_archive_copy.favorite_count.astype(np.int64)\n",
    "twitter_archive_copy.retweet_count = twitter_archive_copy.retweet_count.astype(np.int64)"
   ]
  },
  {
   "cell_type": "markdown",
   "metadata": {},
   "source": [
    "#### 测试"
   ]
  },
  {
   "cell_type": "code",
   "execution_count": 95,
   "metadata": {},
   "outputs": [
    {
     "name": "stdout",
     "output_type": "stream",
     "text": [
      "<class 'pandas.core.frame.DataFrame'>\n",
      "Int64Index: 2175 entries, 0 to 2355\n",
      "Data columns (total 16 columns):\n",
      "tweet_id                      2175 non-null object\n",
      "social_status                 344 non-null object\n",
      "in_reply_to_status_id         78 non-null object\n",
      "in_reply_to_user_id           78 non-null object\n",
      "timestamp                     2175 non-null datetime64[ns]\n",
      "source                        2175 non-null object\n",
      "text                          2175 non-null object\n",
      "retweeted_status_id           0 non-null object\n",
      "retweeted_status_user_id      0 non-null object\n",
      "retweeted_status_timestamp    0 non-null object\n",
      "expanded_urls                 2117 non-null object\n",
      "rating_numerator              2175 non-null int64\n",
      "rating_denominator            2175 non-null int64\n",
      "name                          2175 non-null object\n",
      "favorite_count                2175 non-null int64\n",
      "retweet_count                 2175 non-null int64\n",
      "dtypes: datetime64[ns](1), int64(4), object(11)\n",
      "memory usage: 288.9+ KB\n"
     ]
    }
   ],
   "source": [
    "twitter_archive_copy.info()"
   ]
  },
  {
   "cell_type": "markdown",
   "metadata": {},
   "source": [
    "#### 定义\n",
    "* 5. 分数分母rating_denominator 为16，15，7都不符合规范，需要去掉\n",
    "* 使用isin() 取反\n",
    "#### 代码"
   ]
  },
  {
   "cell_type": "code",
   "execution_count": 96,
   "metadata": {
    "collapsed": true
   },
   "outputs": [],
   "source": [
    "twitter_archive_copy = twitter_archive_copy[~twitter_archive_copy.rating_denominator.isin([7,15,16])]"
   ]
  },
  {
   "cell_type": "markdown",
   "metadata": {},
   "source": [
    "##### 测试"
   ]
  },
  {
   "cell_type": "code",
   "execution_count": 97,
   "metadata": {},
   "outputs": [
    {
     "data": {
      "text/html": [
       "<div>\n",
       "<style scoped>\n",
       "    .dataframe tbody tr th:only-of-type {\n",
       "        vertical-align: middle;\n",
       "    }\n",
       "\n",
       "    .dataframe tbody tr th {\n",
       "        vertical-align: top;\n",
       "    }\n",
       "\n",
       "    .dataframe thead th {\n",
       "        text-align: right;\n",
       "    }\n",
       "</style>\n",
       "<table border=\"1\" class=\"dataframe\">\n",
       "  <thead>\n",
       "    <tr style=\"text-align: right;\">\n",
       "      <th></th>\n",
       "      <th>tweet_id</th>\n",
       "      <th>social_status</th>\n",
       "      <th>in_reply_to_status_id</th>\n",
       "      <th>in_reply_to_user_id</th>\n",
       "      <th>timestamp</th>\n",
       "      <th>source</th>\n",
       "      <th>text</th>\n",
       "      <th>retweeted_status_id</th>\n",
       "      <th>retweeted_status_user_id</th>\n",
       "      <th>retweeted_status_timestamp</th>\n",
       "      <th>expanded_urls</th>\n",
       "      <th>rating_numerator</th>\n",
       "      <th>rating_denominator</th>\n",
       "      <th>name</th>\n",
       "      <th>favorite_count</th>\n",
       "      <th>retweet_count</th>\n",
       "    </tr>\n",
       "  </thead>\n",
       "  <tbody>\n",
       "  </tbody>\n",
       "</table>\n",
       "</div>"
      ],
      "text/plain": [
       "Empty DataFrame\n",
       "Columns: [tweet_id, social_status, in_reply_to_status_id, in_reply_to_user_id, timestamp, source, text, retweeted_status_id, retweeted_status_user_id, retweeted_status_timestamp, expanded_urls, rating_numerator, rating_denominator, name, favorite_count, retweet_count]\n",
       "Index: []"
      ]
     },
     "execution_count": 97,
     "metadata": {},
     "output_type": "execute_result"
    }
   ],
   "source": [
    "twitter_archive_copy[twitter_archive_copy.rating_denominator.isin([7,15,16])]"
   ]
  },
  {
   "cell_type": "markdown",
   "metadata": {},
   "source": [
    "#### 定义\n",
    "* 4. twitter_ID为835246439529840640的评分不应该是960/0，而应该是13/10； twitter_ID为666287406224695296的评分不是1/2，而是9/10；\n",
    "* 根据索引进行替换\n",
    "\n",
    "#### 代码"
   ]
  },
  {
   "cell_type": "code",
   "execution_count": 98,
   "metadata": {
    "collapsed": true
   },
   "outputs": [],
   "source": [
    "#重设index\n",
    "twitter_archive_copy.reset_index(drop=True,inplace=True)"
   ]
  },
  {
   "cell_type": "code",
   "execution_count": 99,
   "metadata": {},
   "outputs": [
    {
     "data": {
      "text/html": [
       "<div>\n",
       "<style scoped>\n",
       "    .dataframe tbody tr th:only-of-type {\n",
       "        vertical-align: middle;\n",
       "    }\n",
       "\n",
       "    .dataframe tbody tr th {\n",
       "        vertical-align: top;\n",
       "    }\n",
       "\n",
       "    .dataframe thead th {\n",
       "        text-align: right;\n",
       "    }\n",
       "</style>\n",
       "<table border=\"1\" class=\"dataframe\">\n",
       "  <thead>\n",
       "    <tr style=\"text-align: right;\">\n",
       "      <th></th>\n",
       "      <th>tweet_id</th>\n",
       "      <th>social_status</th>\n",
       "      <th>in_reply_to_status_id</th>\n",
       "      <th>in_reply_to_user_id</th>\n",
       "      <th>timestamp</th>\n",
       "      <th>source</th>\n",
       "      <th>text</th>\n",
       "      <th>retweeted_status_id</th>\n",
       "      <th>retweeted_status_user_id</th>\n",
       "      <th>retweeted_status_timestamp</th>\n",
       "      <th>expanded_urls</th>\n",
       "      <th>rating_numerator</th>\n",
       "      <th>rating_denominator</th>\n",
       "      <th>name</th>\n",
       "      <th>favorite_count</th>\n",
       "      <th>retweet_count</th>\n",
       "    </tr>\n",
       "  </thead>\n",
       "  <tbody>\n",
       "    <tr>\n",
       "      <th>574</th>\n",
       "      <td>835246439529840640</td>\n",
       "      <td>NaN</td>\n",
       "      <td>8.35246e+17</td>\n",
       "      <td>2.62596e+07</td>\n",
       "      <td>2017-02-24 21:54:03</td>\n",
       "      <td>&lt;a href=\"http://twitter.com/download/iphone\" r...</td>\n",
       "      <td>@jonnysun @Lin_Manuel ok jomny I know you're e...</td>\n",
       "      <td>NaN</td>\n",
       "      <td>NaN</td>\n",
       "      <td>NaN</td>\n",
       "      <td>NaN</td>\n",
       "      <td>960</td>\n",
       "      <td>0</td>\n",
       "      <td>None</td>\n",
       "      <td>2248</td>\n",
       "      <td>82</td>\n",
       "    </tr>\n",
       "  </tbody>\n",
       "</table>\n",
       "</div>"
      ],
      "text/plain": [
       "               tweet_id social_status in_reply_to_status_id  \\\n",
       "574  835246439529840640           NaN           8.35246e+17   \n",
       "\n",
       "    in_reply_to_user_id           timestamp  \\\n",
       "574         2.62596e+07 2017-02-24 21:54:03   \n",
       "\n",
       "                                                source  \\\n",
       "574  <a href=\"http://twitter.com/download/iphone\" r...   \n",
       "\n",
       "                                                  text retweeted_status_id  \\\n",
       "574  @jonnysun @Lin_Manuel ok jomny I know you're e...                 NaN   \n",
       "\n",
       "    retweeted_status_user_id retweeted_status_timestamp expanded_urls  \\\n",
       "574                      NaN                        NaN           NaN   \n",
       "\n",
       "     rating_numerator  rating_denominator  name  favorite_count  retweet_count  \n",
       "574               960                   0  None            2248             82  "
      ]
     },
     "execution_count": 99,
     "metadata": {},
     "output_type": "execute_result"
    }
   ],
   "source": [
    "twitter_archive_copy[twitter_archive_copy.tweet_id=='835246439529840640']"
   ]
  },
  {
   "cell_type": "code",
   "execution_count": 100,
   "metadata": {
    "collapsed": true
   },
   "outputs": [],
   "source": [
    "twitter_archive_copy.iloc[574,11]=13\n",
    "twitter_archive_copy.iloc[574,12]=10"
   ]
  },
  {
   "cell_type": "code",
   "execution_count": 101,
   "metadata": {},
   "outputs": [
    {
     "data": {
      "text/html": [
       "<div>\n",
       "<style scoped>\n",
       "    .dataframe tbody tr th:only-of-type {\n",
       "        vertical-align: middle;\n",
       "    }\n",
       "\n",
       "    .dataframe tbody tr th {\n",
       "        vertical-align: top;\n",
       "    }\n",
       "\n",
       "    .dataframe thead th {\n",
       "        text-align: right;\n",
       "    }\n",
       "</style>\n",
       "<table border=\"1\" class=\"dataframe\">\n",
       "  <thead>\n",
       "    <tr style=\"text-align: right;\">\n",
       "      <th></th>\n",
       "      <th>tweet_id</th>\n",
       "      <th>social_status</th>\n",
       "      <th>in_reply_to_status_id</th>\n",
       "      <th>in_reply_to_user_id</th>\n",
       "      <th>timestamp</th>\n",
       "      <th>source</th>\n",
       "      <th>text</th>\n",
       "      <th>retweeted_status_id</th>\n",
       "      <th>retweeted_status_user_id</th>\n",
       "      <th>retweeted_status_timestamp</th>\n",
       "      <th>expanded_urls</th>\n",
       "      <th>rating_numerator</th>\n",
       "      <th>rating_denominator</th>\n",
       "      <th>name</th>\n",
       "      <th>favorite_count</th>\n",
       "      <th>retweet_count</th>\n",
       "    </tr>\n",
       "  </thead>\n",
       "  <tbody>\n",
       "    <tr>\n",
       "      <th>2151</th>\n",
       "      <td>666287406224695296</td>\n",
       "      <td>NaN</td>\n",
       "      <td>NaN</td>\n",
       "      <td>NaN</td>\n",
       "      <td>2015-11-16 16:11:11</td>\n",
       "      <td>&lt;a href=\"http://twitter.com/download/iphone\" r...</td>\n",
       "      <td>This is an Albanian 3 1/2 legged  Episcopalian...</td>\n",
       "      <td>NaN</td>\n",
       "      <td>NaN</td>\n",
       "      <td>NaN</td>\n",
       "      <td>https://twitter.com/dog_rates/status/666287406...</td>\n",
       "      <td>1</td>\n",
       "      <td>2</td>\n",
       "      <td>an</td>\n",
       "      <td>152</td>\n",
       "      <td>71</td>\n",
       "    </tr>\n",
       "  </tbody>\n",
       "</table>\n",
       "</div>"
      ],
      "text/plain": [
       "                tweet_id social_status in_reply_to_status_id  \\\n",
       "2151  666287406224695296           NaN                   NaN   \n",
       "\n",
       "     in_reply_to_user_id           timestamp  \\\n",
       "2151                 NaN 2015-11-16 16:11:11   \n",
       "\n",
       "                                                 source  \\\n",
       "2151  <a href=\"http://twitter.com/download/iphone\" r...   \n",
       "\n",
       "                                                   text retweeted_status_id  \\\n",
       "2151  This is an Albanian 3 1/2 legged  Episcopalian...                 NaN   \n",
       "\n",
       "     retweeted_status_user_id retweeted_status_timestamp  \\\n",
       "2151                      NaN                        NaN   \n",
       "\n",
       "                                          expanded_urls  rating_numerator  \\\n",
       "2151  https://twitter.com/dog_rates/status/666287406...                 1   \n",
       "\n",
       "      rating_denominator name  favorite_count  retweet_count  \n",
       "2151                   2   an             152             71  "
      ]
     },
     "execution_count": 101,
     "metadata": {},
     "output_type": "execute_result"
    }
   ],
   "source": [
    "twitter_archive_copy[twitter_archive_copy.tweet_id == '666287406224695296']"
   ]
  },
  {
   "cell_type": "code",
   "execution_count": 102,
   "metadata": {
    "collapsed": true
   },
   "outputs": [],
   "source": [
    "twitter_archive_copy.iloc[2151,11] = 9\n",
    "twitter_archive_copy.iloc[2151,12] = 10"
   ]
  },
  {
   "cell_type": "markdown",
   "metadata": {},
   "source": [
    "#### 测试"
   ]
  },
  {
   "cell_type": "code",
   "execution_count": 103,
   "metadata": {},
   "outputs": [
    {
     "data": {
      "text/html": [
       "<div>\n",
       "<style scoped>\n",
       "    .dataframe tbody tr th:only-of-type {\n",
       "        vertical-align: middle;\n",
       "    }\n",
       "\n",
       "    .dataframe tbody tr th {\n",
       "        vertical-align: top;\n",
       "    }\n",
       "\n",
       "    .dataframe thead th {\n",
       "        text-align: right;\n",
       "    }\n",
       "</style>\n",
       "<table border=\"1\" class=\"dataframe\">\n",
       "  <thead>\n",
       "    <tr style=\"text-align: right;\">\n",
       "      <th></th>\n",
       "      <th>tweet_id</th>\n",
       "      <th>social_status</th>\n",
       "      <th>in_reply_to_status_id</th>\n",
       "      <th>in_reply_to_user_id</th>\n",
       "      <th>timestamp</th>\n",
       "      <th>source</th>\n",
       "      <th>text</th>\n",
       "      <th>retweeted_status_id</th>\n",
       "      <th>retweeted_status_user_id</th>\n",
       "      <th>retweeted_status_timestamp</th>\n",
       "      <th>expanded_urls</th>\n",
       "      <th>rating_numerator</th>\n",
       "      <th>rating_denominator</th>\n",
       "      <th>name</th>\n",
       "      <th>favorite_count</th>\n",
       "      <th>retweet_count</th>\n",
       "    </tr>\n",
       "  </thead>\n",
       "  <tbody>\n",
       "    <tr>\n",
       "      <th>574</th>\n",
       "      <td>835246439529840640</td>\n",
       "      <td>NaN</td>\n",
       "      <td>8.35246e+17</td>\n",
       "      <td>2.62596e+07</td>\n",
       "      <td>2017-02-24 21:54:03</td>\n",
       "      <td>&lt;a href=\"http://twitter.com/download/iphone\" r...</td>\n",
       "      <td>@jonnysun @Lin_Manuel ok jomny I know you're e...</td>\n",
       "      <td>NaN</td>\n",
       "      <td>NaN</td>\n",
       "      <td>NaN</td>\n",
       "      <td>NaN</td>\n",
       "      <td>13</td>\n",
       "      <td>10</td>\n",
       "      <td>None</td>\n",
       "      <td>2248</td>\n",
       "      <td>82</td>\n",
       "    </tr>\n",
       "  </tbody>\n",
       "</table>\n",
       "</div>"
      ],
      "text/plain": [
       "               tweet_id social_status in_reply_to_status_id  \\\n",
       "574  835246439529840640           NaN           8.35246e+17   \n",
       "\n",
       "    in_reply_to_user_id           timestamp  \\\n",
       "574         2.62596e+07 2017-02-24 21:54:03   \n",
       "\n",
       "                                                source  \\\n",
       "574  <a href=\"http://twitter.com/download/iphone\" r...   \n",
       "\n",
       "                                                  text retweeted_status_id  \\\n",
       "574  @jonnysun @Lin_Manuel ok jomny I know you're e...                 NaN   \n",
       "\n",
       "    retweeted_status_user_id retweeted_status_timestamp expanded_urls  \\\n",
       "574                      NaN                        NaN           NaN   \n",
       "\n",
       "     rating_numerator  rating_denominator  name  favorite_count  retweet_count  \n",
       "574                13                  10  None            2248             82  "
      ]
     },
     "execution_count": 103,
     "metadata": {},
     "output_type": "execute_result"
    }
   ],
   "source": [
    "twitter_archive_copy[twitter_archive_copy.tweet_id=='835246439529840640']"
   ]
  },
  {
   "cell_type": "code",
   "execution_count": 104,
   "metadata": {},
   "outputs": [
    {
     "data": {
      "text/html": [
       "<div>\n",
       "<style scoped>\n",
       "    .dataframe tbody tr th:only-of-type {\n",
       "        vertical-align: middle;\n",
       "    }\n",
       "\n",
       "    .dataframe tbody tr th {\n",
       "        vertical-align: top;\n",
       "    }\n",
       "\n",
       "    .dataframe thead th {\n",
       "        text-align: right;\n",
       "    }\n",
       "</style>\n",
       "<table border=\"1\" class=\"dataframe\">\n",
       "  <thead>\n",
       "    <tr style=\"text-align: right;\">\n",
       "      <th></th>\n",
       "      <th>tweet_id</th>\n",
       "      <th>social_status</th>\n",
       "      <th>in_reply_to_status_id</th>\n",
       "      <th>in_reply_to_user_id</th>\n",
       "      <th>timestamp</th>\n",
       "      <th>source</th>\n",
       "      <th>text</th>\n",
       "      <th>retweeted_status_id</th>\n",
       "      <th>retweeted_status_user_id</th>\n",
       "      <th>retweeted_status_timestamp</th>\n",
       "      <th>expanded_urls</th>\n",
       "      <th>rating_numerator</th>\n",
       "      <th>rating_denominator</th>\n",
       "      <th>name</th>\n",
       "      <th>favorite_count</th>\n",
       "      <th>retweet_count</th>\n",
       "    </tr>\n",
       "  </thead>\n",
       "  <tbody>\n",
       "    <tr>\n",
       "      <th>2151</th>\n",
       "      <td>666287406224695296</td>\n",
       "      <td>NaN</td>\n",
       "      <td>NaN</td>\n",
       "      <td>NaN</td>\n",
       "      <td>2015-11-16 16:11:11</td>\n",
       "      <td>&lt;a href=\"http://twitter.com/download/iphone\" r...</td>\n",
       "      <td>This is an Albanian 3 1/2 legged  Episcopalian...</td>\n",
       "      <td>NaN</td>\n",
       "      <td>NaN</td>\n",
       "      <td>NaN</td>\n",
       "      <td>https://twitter.com/dog_rates/status/666287406...</td>\n",
       "      <td>9</td>\n",
       "      <td>10</td>\n",
       "      <td>an</td>\n",
       "      <td>152</td>\n",
       "      <td>71</td>\n",
       "    </tr>\n",
       "  </tbody>\n",
       "</table>\n",
       "</div>"
      ],
      "text/plain": [
       "                tweet_id social_status in_reply_to_status_id  \\\n",
       "2151  666287406224695296           NaN                   NaN   \n",
       "\n",
       "     in_reply_to_user_id           timestamp  \\\n",
       "2151                 NaN 2015-11-16 16:11:11   \n",
       "\n",
       "                                                 source  \\\n",
       "2151  <a href=\"http://twitter.com/download/iphone\" r...   \n",
       "\n",
       "                                                   text retweeted_status_id  \\\n",
       "2151  This is an Albanian 3 1/2 legged  Episcopalian...                 NaN   \n",
       "\n",
       "     retweeted_status_user_id retweeted_status_timestamp  \\\n",
       "2151                      NaN                        NaN   \n",
       "\n",
       "                                          expanded_urls  rating_numerator  \\\n",
       "2151  https://twitter.com/dog_rates/status/666287406...                 9   \n",
       "\n",
       "      rating_denominator name  favorite_count  retweet_count  \n",
       "2151                  10   an             152             71  "
      ]
     },
     "execution_count": 104,
     "metadata": {},
     "output_type": "execute_result"
    }
   ],
   "source": [
    "twitter_archive_copy[twitter_archive_copy.tweet_id == '666287406224695296' ]"
   ]
  },
  {
   "cell_type": "markdown",
   "metadata": {},
   "source": [
    "#### 定义\n",
    "* 6. Name为'a','an','the','this','all','very'等小写字母开头的单词都不是真实的名字，需要改为Nan;同时name为‘None’的值也需要替换为Nan\n",
    "* 前面评估时已经生成了名字有问题的list,errr_name\n",
    "* 使用replace方法\n",
    "\n",
    "#### 代码\n"
   ]
  },
  {
   "cell_type": "code",
   "execution_count": 105,
   "metadata": {
    "collapsed": true
   },
   "outputs": [],
   "source": [
    "for i in error_name:\n",
    "    twitter_archive_copy.name.replace(i,np.nan,inplace=True)"
   ]
  },
  {
   "cell_type": "markdown",
   "metadata": {},
   "source": [
    "#### 测试"
   ]
  },
  {
   "cell_type": "code",
   "execution_count": 106,
   "metadata": {
    "collapsed": true
   },
   "outputs": [],
   "source": [
    "for i in error_name:\n",
    "    assert i not in twitter_archive_copy.name.values"
   ]
  },
  {
   "cell_type": "markdown",
   "metadata": {},
   "source": [
    "#### 定义\n",
    "* 7.source 应该只用保留中间内容\n",
    "#### 代码"
   ]
  },
  {
   "cell_type": "code",
   "execution_count": 107,
   "metadata": {},
   "outputs": [
    {
     "data": {
      "text/plain": [
       "<a href=\"http://twitter.com/download/iphone\" rel=\"nofollow\">Twitter for iPhone</a>     2039\n",
       "<a href=\"http://vine.co\" rel=\"nofollow\">Vine - Make a Scene</a>                          91\n",
       "<a href=\"http://twitter.com\" rel=\"nofollow\">Twitter Web Client</a>                       31\n",
       "<a href=\"https://about.twitter.com/products/tweetdeck\" rel=\"nofollow\">TweetDeck</a>      11\n",
       "Name: source, dtype: int64"
      ]
     },
     "execution_count": 107,
     "metadata": {},
     "output_type": "execute_result"
    }
   ],
   "source": [
    "twitter_archive_copy.source.value_counts()"
   ]
  },
  {
   "cell_type": "markdown",
   "metadata": {},
   "source": [
    "* 观察到，其实source列一共也只有4种类型：Twitter for iPhone；Vine - Make a Scene；Twitter Web Client；TweetDeck\n",
    "* 可以使用replace()进行替换更好"
   ]
  },
  {
   "cell_type": "code",
   "execution_count": 108,
   "metadata": {},
   "outputs": [
    {
     "data": {
      "text/plain": [
       "['<a href=\"http://twitter.com/download/iphone\" rel=\"nofollow\">Twitter for iPhone</a>',\n",
       " '<a href=\"http://vine.co\" rel=\"nofollow\">Vine - Make a Scene</a>',\n",
       " '<a href=\"http://twitter.com\" rel=\"nofollow\">Twitter Web Client</a>',\n",
       " '<a href=\"https://about.twitter.com/products/tweetdeck\" rel=\"nofollow\">TweetDeck</a>']"
      ]
     },
     "execution_count": 108,
     "metadata": {},
     "output_type": "execute_result"
    }
   ],
   "source": [
    "list(twitter_archive_copy.source.value_counts().index)"
   ]
  },
  {
   "cell_type": "code",
   "execution_count": 109,
   "metadata": {
    "collapsed": true
   },
   "outputs": [],
   "source": [
    "twitter_archive_copy.source.replace(list(twitter_archive_copy.source.value_counts().index),\n",
    "                                    ['Twitter for iPhone','Vine - Make a Scene','Twitter Web Client','TweetDeck'],\n",
    "                                   inplace= True)"
   ]
  },
  {
   "cell_type": "markdown",
   "metadata": {},
   "source": [
    "#### 测试"
   ]
  },
  {
   "cell_type": "code",
   "execution_count": 110,
   "metadata": {},
   "outputs": [
    {
     "data": {
      "text/plain": [
       "Twitter for iPhone     2039\n",
       "Vine - Make a Scene      91\n",
       "Twitter Web Client       31\n",
       "TweetDeck                11\n",
       "Name: source, dtype: int64"
      ]
     },
     "execution_count": 110,
     "metadata": {},
     "output_type": "execute_result"
    }
   ],
   "source": [
    "twitter_archive_copy.source.value_counts()"
   ]
  },
  {
   "cell_type": "markdown",
   "metadata": {},
   "source": [
    "#### 定义\n",
    "* 8. twitter_ID为810984652412424192的 expanded_urls有由逗号隔开的两个链接，其实只需要后面的链接即可\n",
    "\n",
    "\n",
    "#### 代码\n"
   ]
  },
  {
   "cell_type": "code",
   "execution_count": 111,
   "metadata": {},
   "outputs": [
    {
     "data": {
      "text/html": [
       "<div>\n",
       "<style scoped>\n",
       "    .dataframe tbody tr th:only-of-type {\n",
       "        vertical-align: middle;\n",
       "    }\n",
       "\n",
       "    .dataframe tbody tr th {\n",
       "        vertical-align: top;\n",
       "    }\n",
       "\n",
       "    .dataframe thead th {\n",
       "        text-align: right;\n",
       "    }\n",
       "</style>\n",
       "<table border=\"1\" class=\"dataframe\">\n",
       "  <thead>\n",
       "    <tr style=\"text-align: right;\">\n",
       "      <th></th>\n",
       "      <th>tweet_id</th>\n",
       "      <th>social_status</th>\n",
       "      <th>in_reply_to_status_id</th>\n",
       "      <th>in_reply_to_user_id</th>\n",
       "      <th>timestamp</th>\n",
       "      <th>source</th>\n",
       "      <th>text</th>\n",
       "      <th>retweeted_status_id</th>\n",
       "      <th>retweeted_status_user_id</th>\n",
       "      <th>retweeted_status_timestamp</th>\n",
       "      <th>expanded_urls</th>\n",
       "      <th>rating_numerator</th>\n",
       "      <th>rating_denominator</th>\n",
       "      <th>name</th>\n",
       "      <th>favorite_count</th>\n",
       "      <th>retweet_count</th>\n",
       "    </tr>\n",
       "  </thead>\n",
       "  <tbody>\n",
       "  </tbody>\n",
       "</table>\n",
       "</div>"
      ],
      "text/plain": [
       "Empty DataFrame\n",
       "Columns: [tweet_id, social_status, in_reply_to_status_id, in_reply_to_user_id, timestamp, source, text, retweeted_status_id, retweeted_status_user_id, retweeted_status_timestamp, expanded_urls, rating_numerator, rating_denominator, name, favorite_count, retweet_count]\n",
       "Index: []"
      ]
     },
     "execution_count": 111,
     "metadata": {},
     "output_type": "execute_result"
    }
   ],
   "source": [
    "twitter_archive_copy[twitter_archive_copy.tweet_id == '810984652412424192' ]"
   ]
  },
  {
   "cell_type": "markdown",
   "metadata": {},
   "source": [
    "它的rating_denominator为7，已在前面被删除，所以无需再修改"
   ]
  },
  {
   "cell_type": "markdown",
   "metadata": {},
   "source": [
    "#### 定义\n",
    "* 10.image_predictions 表中tweet_id应该是object类型,img_num应该是object类型\n",
    "\n",
    "#### 代码\n"
   ]
  },
  {
   "cell_type": "code",
   "execution_count": 112,
   "metadata": {
    "collapsed": true
   },
   "outputs": [],
   "source": [
    "image_predictions_copy.tweet_id = image_predictions_copy.tweet_id.astype(str)\n",
    "image_predictions_copy.img_num = image_predictions_copy.img_num.astype(str)"
   ]
  },
  {
   "cell_type": "markdown",
   "metadata": {},
   "source": [
    "#### 测试"
   ]
  },
  {
   "cell_type": "code",
   "execution_count": 113,
   "metadata": {},
   "outputs": [
    {
     "name": "stdout",
     "output_type": "stream",
     "text": [
      "<class 'pandas.core.frame.DataFrame'>\n",
      "RangeIndex: 2075 entries, 0 to 2074\n",
      "Data columns (total 12 columns):\n",
      "tweet_id    2075 non-null object\n",
      "jpg_url     2075 non-null object\n",
      "img_num     2075 non-null object\n",
      "p1          2075 non-null object\n",
      "p1_conf     2075 non-null float64\n",
      "p1_dog      2075 non-null bool\n",
      "p2          2075 non-null object\n",
      "p2_conf     2075 non-null float64\n",
      "p2_dog      2075 non-null bool\n",
      "p3          2075 non-null object\n",
      "p3_conf     2075 non-null float64\n",
      "p3_dog      2075 non-null bool\n",
      "dtypes: bool(3), float64(3), object(6)\n",
      "memory usage: 152.1+ KB\n"
     ]
    }
   ],
   "source": [
    "image_predictions_copy.info()"
   ]
  },
  {
   "cell_type": "markdown",
   "metadata": {},
   "source": [
    "#### 定义\n",
    "* 11. image_predictions 表中p1,p2,p3,p4狗狗类别的首字母大小写不一致，应该全部改为大写\n",
    "* 比如 golden_retriever—>Golden_Retriever\n",
    "* 使用str.title()函数转换\n",
    "\n",
    "* 参考链接：http://www.runoob.com/python3/python3-upper-lower.html\n",
    "#### 代码\n"
   ]
  },
  {
   "cell_type": "code",
   "execution_count": 114,
   "metadata": {
    "collapsed": true
   },
   "outputs": [],
   "source": [
    "image_predictions_copy.p1 = image_predictions_copy.p1.str.title()\n",
    "image_predictions_copy.p2 = image_predictions_copy.p2.str.title()\n",
    "image_predictions_copy.p3 = image_predictions_copy.p3.str.title()"
   ]
  },
  {
   "cell_type": "markdown",
   "metadata": {},
   "source": [
    "#### 测试"
   ]
  },
  {
   "cell_type": "code",
   "execution_count": 115,
   "metadata": {},
   "outputs": [
    {
     "data": {
      "text/plain": [
       "Golden_Retriever             150\n",
       "Labrador_Retriever           100\n",
       "Pembroke                      89\n",
       "Chihuahua                     83\n",
       "Pug                           57\n",
       "Chow                          44\n",
       "Samoyed                       43\n",
       "Toy_Poodle                    39\n",
       "Pomeranian                    38\n",
       "Malamute                      30\n",
       "Cocker_Spaniel                30\n",
       "French_Bulldog                26\n",
       "Chesapeake_Bay_Retriever      23\n",
       "Miniature_Pinscher            23\n",
       "Seat_Belt                     22\n",
       "Staffordshire_Bullterrier     20\n",
       "Siberian_Husky                20\n",
       "German_Shepherd               20\n",
       "Web_Site                      19\n",
       "Cardigan                      19\n",
       "Teddy                         18\n",
       "Maltese_Dog                   18\n",
       "Eskimo_Dog                    18\n",
       "Shetland_Sheepdog             18\n",
       "Beagle                        18\n",
       "Shih-Tzu                      17\n",
       "Rottweiler                    17\n",
       "Lakeland_Terrier              17\n",
       "Kuvasz                        16\n",
       "Italian_Greyhound             16\n",
       "                            ... \n",
       "Limousine                      1\n",
       "Long-Horned_Beetle             1\n",
       "Cheeseburger                   1\n",
       "Otter                          1\n",
       "Prayer_Rug                     1\n",
       "Shield                         1\n",
       "Microwave                      1\n",
       "Teapot                         1\n",
       "Damselfly                      1\n",
       "Pool_Table                     1\n",
       "Rapeseed                       1\n",
       "Flamingo                       1\n",
       "Bow                            1\n",
       "Egyptian_Cat                   1\n",
       "Pillow                         1\n",
       "Rotisserie                     1\n",
       "Trombone                       1\n",
       "Groenendael                    1\n",
       "Suit                           1\n",
       "Pitcher                        1\n",
       "Mortarboard                    1\n",
       "Restaurant                     1\n",
       "Beach_Wagon                    1\n",
       "Pencil_Box                     1\n",
       "Crane                          1\n",
       "Hare                           1\n",
       "African_Grey                   1\n",
       "Sliding_Door                   1\n",
       "Fire_Engine                    1\n",
       "Zebra                          1\n",
       "Name: p1, Length: 378, dtype: int64"
      ]
     },
     "execution_count": 115,
     "metadata": {},
     "output_type": "execute_result"
    }
   ],
   "source": [
    "image_predictions_copy.p1.value_counts()"
   ]
  },
  {
   "cell_type": "markdown",
   "metadata": {},
   "source": [
    "### 合并image_predictions 和twitter_archive_copy"
   ]
  },
  {
   "cell_type": "code",
   "execution_count": 116,
   "metadata": {
    "collapsed": true
   },
   "outputs": [],
   "source": [
    "twitter_archive_master = pd.merge(twitter_archive_copy,image_predictions_copy,on='tweet_id',how='left')"
   ]
  },
  {
   "cell_type": "code",
   "execution_count": 117,
   "metadata": {},
   "outputs": [
    {
     "name": "stdout",
     "output_type": "stream",
     "text": [
      "<class 'pandas.core.frame.DataFrame'>\n",
      "Int64Index: 2172 entries, 0 to 2171\n",
      "Data columns (total 27 columns):\n",
      "tweet_id                      2172 non-null object\n",
      "social_status                 344 non-null object\n",
      "in_reply_to_status_id         76 non-null object\n",
      "in_reply_to_user_id           76 non-null object\n",
      "timestamp                     2172 non-null datetime64[ns]\n",
      "source                        2172 non-null object\n",
      "text                          2172 non-null object\n",
      "retweeted_status_id           0 non-null object\n",
      "retweeted_status_user_id      0 non-null object\n",
      "retweeted_status_timestamp    0 non-null object\n",
      "expanded_urls                 2116 non-null object\n",
      "rating_numerator              2172 non-null int64\n",
      "rating_denominator            2172 non-null int64\n",
      "name                          1390 non-null object\n",
      "favorite_count                2172 non-null int64\n",
      "retweet_count                 2172 non-null int64\n",
      "jpg_url                       1993 non-null object\n",
      "img_num                       1993 non-null object\n",
      "p1                            1993 non-null object\n",
      "p1_conf                       1993 non-null float64\n",
      "p1_dog                        1993 non-null object\n",
      "p2                            1993 non-null object\n",
      "p2_conf                       1993 non-null float64\n",
      "p2_dog                        1993 non-null object\n",
      "p3                            1993 non-null object\n",
      "p3_conf                       1993 non-null float64\n",
      "p3_dog                        1993 non-null object\n",
      "dtypes: datetime64[ns](1), float64(3), int64(4), object(19)\n",
      "memory usage: 475.1+ KB\n"
     ]
    }
   ],
   "source": [
    "twitter_archive_master.info()"
   ]
  },
  {
   "cell_type": "code",
   "execution_count": 121,
   "metadata": {},
   "outputs": [
    {
     "data": {
      "text/plain": [
       "2164    https://pbs.twimg.com/media/CT5N9tpXIAAifs1.jpg\n",
       "755     https://pbs.twimg.com/media/CwxfrguUUAA1cbl.jpg\n",
       "1883    https://pbs.twimg.com/media/CVBokRSWsAADuXx.jpg\n",
       "520     https://pbs.twimg.com/media/C8IKUjAUwAEP-En.jpg\n",
       "13      https://pbs.twimg.com/media/CVgxQc5XIAAYL0W.jpg\n",
       "Name: jpg_url, dtype: object"
      ]
     },
     "execution_count": 121,
     "metadata": {},
     "output_type": "execute_result"
    }
   ],
   "source": [
    "twitter_archive_master.jpg_url.sample(5)"
   ]
  },
  {
   "cell_type": "markdown",
   "metadata": {},
   "source": [
    "#### 定义\n",
    "* 2.没有图片的评分的数据需要删除，将image_predictions 合并到twitter_archive_copy后，删除jpg_url为空的数据;因为没有图片就不会有图片预测数据。\n",
    "\n",
    "#### 代码"
   ]
  },
  {
   "cell_type": "code",
   "execution_count": 122,
   "metadata": {
    "collapsed": true
   },
   "outputs": [],
   "source": [
    "twitter_archive_master.dropna(subset=['jpg_url'],inplace = True)"
   ]
  },
  {
   "cell_type": "markdown",
   "metadata": {},
   "source": [
    "#### 测试"
   ]
  },
  {
   "cell_type": "code",
   "execution_count": 123,
   "metadata": {},
   "outputs": [
    {
     "name": "stdout",
     "output_type": "stream",
     "text": [
      "<class 'pandas.core.frame.DataFrame'>\n",
      "Int64Index: 1993 entries, 0 to 2171\n",
      "Data columns (total 27 columns):\n",
      "tweet_id                      1993 non-null object\n",
      "social_status                 306 non-null object\n",
      "in_reply_to_status_id         23 non-null object\n",
      "in_reply_to_user_id           23 non-null object\n",
      "timestamp                     1993 non-null datetime64[ns]\n",
      "source                        1993 non-null object\n",
      "text                          1993 non-null object\n",
      "retweeted_status_id           0 non-null object\n",
      "retweeted_status_user_id      0 non-null object\n",
      "retweeted_status_timestamp    0 non-null object\n",
      "expanded_urls                 1993 non-null object\n",
      "rating_numerator              1993 non-null int64\n",
      "rating_denominator            1993 non-null int64\n",
      "name                          1349 non-null object\n",
      "favorite_count                1993 non-null int64\n",
      "retweet_count                 1993 non-null int64\n",
      "jpg_url                       1993 non-null object\n",
      "img_num                       1993 non-null object\n",
      "p1                            1993 non-null object\n",
      "p1_conf                       1993 non-null float64\n",
      "p1_dog                        1993 non-null object\n",
      "p2                            1993 non-null object\n",
      "p2_conf                       1993 non-null float64\n",
      "p2_dog                        1993 non-null object\n",
      "p3                            1993 non-null object\n",
      "p3_conf                       1993 non-null float64\n",
      "p3_dog                        1993 non-null object\n",
      "dtypes: datetime64[ns](1), float64(3), int64(4), object(19)\n",
      "memory usage: 436.0+ KB\n"
     ]
    }
   ],
   "source": [
    "twitter_archive_master.info()"
   ]
  },
  {
   "cell_type": "code",
   "execution_count": 124,
   "metadata": {
    "collapsed": true
   },
   "outputs": [],
   "source": [
    "twitter_archive_master.to_csv('wrangle_act/twitter_archive_master.csv',index=False)"
   ]
  },
  {
   "cell_type": "markdown",
   "metadata": {},
   "source": [
    "* 使用`index = False`避免导出索引，参考链接：https://stackoverflow.com/questions/20845213/how-to-avoid-python-pandas-creating-an-index-in-a-saved-csv/25230582#25230582"
   ]
  },
  {
   "cell_type": "markdown",
   "metadata": {},
   "source": [
    "### 可视化分析\n",
    "** 解决中文字符显示问题：https://www.jianshu.com/p/b76481530472**  \n",
    "** 画饼图相关参数参考：https://www.jianshu.com/p/0a76c94e9db7**"
   ]
  },
  {
   "cell_type": "markdown",
   "metadata": {},
   "source": [
    "** 1. 哪种social_status的狗狗最多呢？**  \n"
   ]
  },
  {
   "cell_type": "code",
   "execution_count": 125,
   "metadata": {},
   "outputs": [
    {
     "data": {
      "text/plain": [
       "pupper            224\n",
       "doggo              75\n",
       "puppo              24\n",
       "doggo pupper       10\n",
       "floofer             9\n",
       "doggo floofer       1\n",
       "doggo puppo         1\n",
       "Name: social_status, dtype: int64"
      ]
     },
     "execution_count": 125,
     "metadata": {},
     "output_type": "execute_result"
    }
   ],
   "source": [
    "twitter_archive_copy.social_status.value_counts()"
   ]
  },
  {
   "cell_type": "code",
   "execution_count": 126,
   "metadata": {
    "collapsed": true
   },
   "outputs": [],
   "source": [
    "##重新计算social_status数量，将有两种称呼的狗狗分开计数\n",
    "social_status = list(twitter_archive_copy.social_status)"
   ]
  },
  {
   "cell_type": "code",
   "execution_count": 127,
   "metadata": {},
   "outputs": [
    {
     "data": {
      "text/plain": [
       "pupper     234\n",
       "doggo       87\n",
       "puppo       25\n",
       "floofer     10\n",
       "dtype: int64"
      ]
     },
     "execution_count": 127,
     "metadata": {},
     "output_type": "execute_result"
    }
   ],
   "source": [
    "social_status_count = pd.Series([social_status.count('pupper ')+social_status.count('doggo pupper '),\n",
    "          social_status.count('doggo ')+social_status.count('doggo pupper ')+social_status.count('doggo floofer ')+social_status.count('doggo puppo '),\n",
    "          social_status.count('puppo ')+social_status.count('doggo puppo '),\n",
    "          social_status.count('floofer ')+social_status.count('doggo floofer ')],index=['pupper','doggo','puppo','floofer'])\n",
    "social_status_count"
   ]
  },
  {
   "cell_type": "code",
   "execution_count": 128,
   "metadata": {
    "collapsed": true
   },
   "outputs": [],
   "source": [
    "import matplotlib.pyplot as plt\n",
    "import warnings\n",
    "from matplotlib.font_manager import FontProperties\n",
    "font = FontProperties(fname=r\"wrangle_act\\simsun.ttc\", size=18)\n",
    "plt.style.use('fivethirtyeight')\n",
    "warnings.filterwarnings('ignore')\n",
    "%matplotlib inline"
   ]
  },
  {
   "cell_type": "code",
   "execution_count": 129,
   "metadata": {},
   "outputs": [
    {
     "data": {
      "text/plain": [
       "<matplotlib.text.Text at 0x20e445a3630>"
      ]
     },
     "execution_count": 129,
     "metadata": {},
     "output_type": "execute_result"
    },
    {
     "data": {
      "image/png": "[encoded data removed]",
      "text/plain": [
       "<matplotlib.figure.Figure at 0x20e442e3f98>"
      ]
     },
     "metadata": {},
     "output_type": "display_data"
    }
   ],
   "source": [
    "f, ax = plt.subplots(1, 2, figsize = (15,6))\n",
    "plt.subplots_adjust(wspace=0.5)\n",
    "social_status_count.plot(kind='pie',ax = ax[0],colors=('b', 'g', 'r', 'c', 'm', 'y', 'k', 'w'),\n",
    "                           labeldistance = 1.1,pctdistance=0.7,autopct='%.1f%%',fontsize=12)\n",
    "social_status_count.plot(kind= 'bar',ax = ax[1],colors=('b', 'g', 'r', 'c', 'm', 'y', 'k', 'w'))\n",
    "\n",
    "ax[0].set_title(\"饼状图\",fontsize=12,color='k',fontproperties=font)\n",
    "ax[1].set_title(\"直方图\",fontsize=12,color='k',fontproperties=font)\n",
    "\n",
    "f.suptitle('狗狗地位分布',color='k',fontproperties=font)"
   ]
  },
  {
   "cell_type": "markdown",
   "metadata": {},
   "source": [
    "** 结论：从图上可以看出参与评分的狗狗中pupper类别的狗狗最多，说明很多人养这种狗狗，这种狗狗很小，而且永远年轻，而且比其他狗狗更成熟，确实这种狗狗更受欢迎。**"
   ]
  },
  {
   "cell_type": "markdown",
   "metadata": {},
   "source": [
    "**2.人们最常使用什么平台（source）对狗狗进行评分**"
   ]
  },
  {
   "cell_type": "code",
   "execution_count": 130,
   "metadata": {},
   "outputs": [
    {
     "data": {
      "text/plain": [
       "Twitter for iPhone     2039\n",
       "Vine - Make a Scene      91\n",
       "Twitter Web Client       31\n",
       "TweetDeck                11\n",
       "Name: source, dtype: int64"
      ]
     },
     "execution_count": 130,
     "metadata": {},
     "output_type": "execute_result"
    }
   ],
   "source": [
    "source_count = twitter_archive_copy.source.value_counts()\n",
    "source_count"
   ]
  },
  {
   "cell_type": "code",
   "execution_count": 131,
   "metadata": {},
   "outputs": [
    {
     "data": {
      "text/plain": [
       "<matplotlib.text.Text at 0x20e448b7a20>"
      ]
     },
     "execution_count": 131,
     "metadata": {},
     "output_type": "execute_result"
    },
    {
     "data": {
      "image/png": "[encoded data removed]",
      "text/plain": [
       "<matplotlib.figure.Figure at 0x20e442e3a20>"
      ]
     },
     "metadata": {},
     "output_type": "display_data"
    }
   ],
   "source": [
    "f, ax = plt.subplots(1, 2, figsize = (15,6))\n",
    "plt.subplots_adjust(wspace=0.5)\n",
    "source_count.plot(kind='pie',ax = ax[0],colors=('b', 'g', 'r', 'c', 'm', 'y', 'k', 'w'),\n",
    "                 labeldistance = 1.1,pctdistance=0.7,autopct='%.1f%%',fontsize=12)\n",
    "source_count.plot(kind= 'bar',ax = ax[1],colors=('b', 'g', 'r', 'c', 'm', 'y', 'k', 'w'))\n",
    "\n",
    "ax[0].set_title(\"饼状图\",fontsize=12,color='k',fontproperties=font)\n",
    "ax[1].set_title(\"直方图\",fontsize=12,color='k',fontproperties=font)\n",
    "f.suptitle('平台使用情况',color='k',fontproperties=font)"
   ]
  },
  {
   "cell_type": "markdown",
   "metadata": {},
   "source": [
    "**结论：最常使用的手机对狗狗进行评分，占比93.9%，大多数人都比较喜欢使用手机围观推特上的信息**"
   ]
  },
  {
   "cell_type": "markdown",
   "metadata": {},
   "source": [
    "**3.最受欢迎的狗狗名字（取前20名）**"
   ]
  },
  {
   "cell_type": "code",
   "execution_count": 132,
   "metadata": {},
   "outputs": [
    {
     "data": {
      "text/plain": [
       "Charlie    11\n",
       "Lucy       11\n",
       "Cooper     10\n",
       "Oliver     10\n",
       "Penny       9\n",
       "Tucker      9\n",
       "Lola        8\n",
       "Sadie       8\n",
       "Winston     8\n",
       "Daisy       7\n",
       "Toby        7\n",
       "Bailey      6\n",
       "Oscar       6\n",
       "Bella       6\n",
       "Stanley     6\n",
       "Bo          6\n",
       "Koda        6\n",
       "Jax         6\n",
       "Buddy       5\n",
       "Dave        5\n",
       "Milo        5\n",
       "Name: name, dtype: int64"
      ]
     },
     "execution_count": 132,
     "metadata": {},
     "output_type": "execute_result"
    }
   ],
   "source": [
    "name_count = twitter_archive_copy.name.value_counts()[0:21]\n",
    "name_count"
   ]
  },
  {
   "cell_type": "code",
   "execution_count": 133,
   "metadata": {},
   "outputs": [
    {
     "data": {
      "text/plain": [
       "<matplotlib.text.Text at 0x20e447a0390>"
      ]
     },
     "execution_count": 133,
     "metadata": {},
     "output_type": "execute_result"
    },
    {
     "data": {
      "image/png": "[encoded data removed]",
      "text/plain": [
       "<matplotlib.figure.Figure at 0x20e44896ef0>"
      ]
     },
     "metadata": {},
     "output_type": "display_data"
    }
   ],
   "source": [
    "name_count.sort_values().plot(kind='barh',color='b',figsize=(8,8))\n",
    "plt.title(\"最受欢迎的狗狗名字\",fontsize=12,color='k',fontproperties=font)"
   ]
  },
  {
   "cell_type": "markdown",
   "metadata": {},
   "source": [
    "**结论：Charlie 和lucy是最受欢迎的两个名字，其次为Oliver和Cooper**"
   ]
  },
  {
   "cell_type": "code",
   "execution_count": null,
   "metadata": {
    "collapsed": true
   },
   "outputs": [],
   "source": []
  }
 ],
 "metadata": {
  "kernelspec": {
   "display_name": "Python 3",
   "language": "python",
   "name": "python3"
  },
  "language_info": {
   "codemirror_mode": {
    "name": "ipython",
    "version": 3
   },
   "file_extension": ".py",
   "mimetype": "text/x-python",
   "name": "python",
   "nbconvert_exporter": "python",
   "pygments_lexer": "ipython3",
   "version": "3.6.4"
  }
 },
 "nbformat": 4,
 "nbformat_minor": 2
}
